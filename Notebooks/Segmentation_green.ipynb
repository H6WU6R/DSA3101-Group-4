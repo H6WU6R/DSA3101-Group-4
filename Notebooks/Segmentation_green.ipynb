{
 "cells": [
  {
   "cell_type": "markdown",
   "metadata": {},
   "source": [
    "## 0. Packages and Datasets Import"
   ]
  },
  {
   "cell_type": "code",
   "execution_count": null,
   "metadata": {},
   "outputs": [],
   "source": [
    "import pandas as pd\n",
    "import numpy as np\n",
    "import matplotlib.pyplot as plt\n",
    "import seaborn as sns\n",
    "import os\n",
    "from scipy import stats\n",
    "from sklearn.preprocessing import StandardScaler\n",
    "from sklearn.cluster import KMeans\n",
    "from sklearn.metrics import silhouette_score\n",
    "from sklearn.preprocessing import MinMaxScaler\n",
    "from sklearn.decomposition import PCA\n",
    "from sklearn.cluster import AgglomerativeClustering\n",
    "from sklearn.preprocessing import StandardScaler\n",
    "from scipy.stats import skew, boxcox, yeojohnson\n",
    "from datetime import datetime\n",
    "from scipy.cluster.hierarchy import dendrogram, linkage\n",
    "from scipy.stats import zscore \n"
   ]
  },
  {
   "cell_type": "code",
   "execution_count": 2,
   "metadata": {},
   "outputs": [],
   "source": [
    "\n",
    "df_original = pd.read_csv('../Data/digital_marketing_campaign_dataset.csv')\n",
    "df_drop = df_original.drop(columns = ['AdvertisingPlatform', 'AdvertisingTool','CustomerID'])\n",
    "columns_to_encode = ['Gender', 'CampaignChannel', 'CampaignType']\n",
    "df_encoded = pd.get_dummies(df_drop, columns=columns_to_encode, drop_first=False)\n",
    "scalar = StandardScaler()\n",
    "df_scaled = scalar.fit_transform(df_encoded)\n"
   ]
  },
  {
   "cell_type": "code",
   "execution_count": 3,
   "metadata": {},
   "outputs": [],
   "source": [
    "pca_range = range(2, min(df_scaled.shape[1], 10) + 1)  # from 2 to either 10 or number of features\n",
    "\n",
    "k_range = range(2, 15)\n",
    "overall_best_sil = -np.inf\n",
    "best_pca_n = None\n",
    "best_k_for_best = None\n",
    "best_scores_for_best = None\n",
    "# Loop over different numbers of PCA components\n",
    "for n_components in pca_range:\n",
    "    # Apply PCA with n_components\n",
    "    pca = PCA(n_components=n_components, random_state=42)\n",
    "    X_pca_temp = pca.fit_transform(df_scaled)\n",
    "    \n",
    "    # Test K-Means for this PCA-transformed data\n",
    "    scores_temp = []\n",
    "    for k in k_range:\n",
    "        kmeans_temp = KMeans(n_clusters=k, random_state=42)\n",
    "        labels_temp = kmeans_temp.fit_predict(X_pca_temp)\n",
    "        sil = silhouette_score(X_pca_temp, labels_temp)\n",
    "        scores_temp.append((k, sil))\n",
    "    \n",
    "    # Find the best silhouette score for this number of PCA components\n",
    "    best_for_this = max(scores_temp, key=lambda x: x[1])\n",
    "    \n",
    "    # Check if this configuration is better than the overall best\n",
    "    if best_for_this[1] > overall_best_sil:\n",
    "        overall_best_sil = best_for_this[1]\n",
    "        best_pca_n = n_components\n",
    "        best_k_for_best = best_for_this[0]\n",
    "        best_scores_for_best = scores_temp"
   ]
  },
  {
   "cell_type": "code",
   "execution_count": 4,
   "metadata": {},
   "outputs": [
    {
     "name": "stdout",
     "output_type": "stream",
     "text": [
      "Best number of PCA components: 2\n",
      "Explained variance by 2 PCA components: [0.08034666 0.05788138 0.05388244 0.05345779 0.05144862 0.0508823\n",
      " 0.05030133 0.04954703 0.04887433 0.04279948]\n",
      "Best k (clusters) for that PCA configuration: 6\n",
      "Overall best silhouette score: 0.6917106071593926\n"
     ]
    }
   ],
   "source": [
    "# Print the best configuration found\n",
    "print(\"Best number of PCA components:\", best_pca_n)\n",
    "print(\"Explained variance by 2 PCA components:\", pca.explained_variance_ratio_)\n",
    "print(\"Best k (clusters) for that PCA configuration:\", best_k_for_best)\n",
    "print(\"Overall best silhouette score:\", overall_best_sil)"
   ]
  },
  {
   "cell_type": "code",
   "execution_count": 5,
   "metadata": {},
   "outputs": [],
   "source": [
    "pca_best = PCA(n_components=best_pca_n, random_state=42)\n",
    "df_pca = pca_best.fit_transform(df_scaled)\n",
    "kmeans = KMeans(n_clusters=best_k_for_best, random_state=42)\n",
    "labels = kmeans.fit_predict(df_pca)  "
   ]
  },
  {
   "cell_type": "code",
   "execution_count": 6,
   "metadata": {},
   "outputs": [
    {
     "name": "stdout",
     "output_type": "stream",
     "text": [
      "Final Cluster Centroids in Original Feature Space:\n",
      "   Cluster    Age    Income  AdSpend  ClickThroughRate  ConversionRate  \\\n",
      "0        0  44.10  82281.07  5610.29              0.17            0.12   \n",
      "1        1  42.66  85308.10  4123.82              0.13            0.09   \n",
      "2        2  43.14  80725.35  4917.23              0.15            0.10   \n",
      "3        3  43.73  86868.75  4906.33              0.15            0.10   \n",
      "4        4  44.70  88427.35  5600.26              0.17            0.11   \n",
      "5        5  42.08  79152.35  4138.82              0.13            0.09   \n",
      "\n",
      "   WebsiteVisits  PagesPerVisit  TimeOnSite  SocialShares  ...  Gender_Male  \\\n",
      "0          26.05           5.99        8.80         48.45  ...         0.99   \n",
      "1          22.98           4.92        6.10         51.93  ...        -0.01   \n",
      "2          24.73           5.51        7.45         50.28  ...         1.00   \n",
      "3          24.48           5.47        7.62         49.88  ...         0.01   \n",
      "4          25.81           5.96        8.97         48.05  ...        -0.00   \n",
      "5          23.24           4.96        5.94         52.32  ...         0.98   \n",
      "\n",
      "   CampaignChannel_Email  CampaignChannel_PPC  CampaignChannel_Referral  \\\n",
      "0                   0.20                 0.25                      0.22   \n",
      "1                   0.18                 0.14                      0.21   \n",
      "2                   0.18                 0.20                      0.20   \n",
      "3                   0.20                 0.20                      0.22   \n",
      "4                   0.22                 0.25                      0.23   \n",
      "5                   0.16                 0.14                      0.19   \n",
      "\n",
      "   CampaignChannel_SEO  CampaignChannel_Social Media  CampaignType_Awareness  \\\n",
      "0                 0.16                          0.17                    0.08   \n",
      "1                 0.24                          0.23                    0.48   \n",
      "2                 0.19                          0.22                    0.25   \n",
      "3                 0.20                          0.18                    0.28   \n",
      "4                 0.17                          0.13                    0.11   \n",
      "5                 0.23                          0.27                    0.45   \n",
      "\n",
      "   CampaignType_Consideration  CampaignType_Conversion  CampaignType_Retention  \n",
      "0                        0.11                     0.69                    0.12  \n",
      "1                        0.46                    -0.37                    0.43  \n",
      "2                        0.29                     0.18                    0.27  \n",
      "3                        0.26                     0.20                    0.26  \n",
      "4                        0.08                     0.70                    0.11  \n",
      "5                        0.50                    -0.38                    0.44  \n",
      "\n",
      "[6 rows x 26 columns]\n"
     ]
    }
   ],
   "source": [
    "# 1. Get centroids in PCA-transformed space\n",
    "pca_centroids = kmeans.cluster_centers_\n",
    "\n",
    "# 2. Inverse transform using the correct PCA model\n",
    "centroids_standardized = pca_best.inverse_transform(pca_centroids)  # Use pca_best, not pca\n",
    "\n",
    "# 3. Reverse standardization to map back to original feature space\n",
    "centroids_original = centroids_standardized * scalar.scale_ + scalar.mean_\n",
    "\n",
    "# 4. Create DataFrame for better readability\n",
    "centroids_df = pd.DataFrame(centroids_original, columns=df_encoded.columns)\n",
    "\n",
    "# 5. Add cluster labels (0, 1, ..., k-1)\n",
    "centroids_df.insert(0, 'Cluster', range(best_k_for_best))\n",
    "\n",
    "# 6. Display results\n",
    "print(\"Final Cluster Centroids in Original Feature Space:\")\n",
    "print(centroids_df.round(2))\n"
   ]
  }
 ],
 "metadata": {
  "kernelspec": {
   "display_name": "base",
   "language": "python",
   "name": "python3"
  },
  "language_info": {
   "codemirror_mode": {
    "name": "ipython",
    "version": 3
   },
   "file_extension": ".py",
   "mimetype": "text/x-python",
   "name": "python",
   "nbconvert_exporter": "python",
   "pygments_lexer": "ipython3",
   "version": "3.11.5"
  }
 },
 "nbformat": 4,
 "nbformat_minor": 2
}
