{
 "cells": [
  {
   "cell_type": "code",
   "execution_count": null,
   "metadata": {},
   "outputs": [],
   "source": [
    "%%capture\n",
    "# make sure compatible versions\n",
    "# !pip install -r ../requirements.txt"
   ]
  },
  {
   "cell_type": "markdown",
   "metadata": {},
   "source": [
    "### this notebook is to clean digital_marketing_campaign_dataset.csv , considering to be used for campaign optimsiation tasks"
   ]
  },
  {
   "cell_type": "code",
   "execution_count": 2,
   "metadata": {
    "execution": {
     "iopub.execute_input": "2024-06-21T21:51:00.224146Z",
     "iopub.status.busy": "2024-06-21T21:51:00.223625Z",
     "iopub.status.idle": "2024-06-21T21:51:00.571413Z",
     "shell.execute_reply": "2024-06-21T21:51:00.569582Z",
     "shell.execute_reply.started": "2024-06-21T21:51:00.224100Z"
    },
    "trusted": true
   },
   "outputs": [],
   "source": [
    "import sys\n",
    "import pandas as pd\n",
    "import numpy as np\n",
    "import matplotlib.pyplot as plt\n",
    "import seaborn as sns\n",
    "from skimpy import skim\n",
    "from sklearn.model_selection import train_test_split\n",
    "from sklearn.preprocessing import OrdinalEncoder, StandardScaler\n",
    "from sklearn.compose import ColumnTransformer\n",
    "from sklearn.pipeline import Pipeline\n",
    "from collections import Counter\n",
    "import warnings\n",
    "warnings.filterwarnings(\"ignore\")"
   ]
  },
  {
   "cell_type": "code",
   "execution_count": 3,
   "metadata": {},
   "outputs": [
    {
     "name": "stdout",
     "output_type": "stream",
     "text": [
      "Python           : 3.11.4 (main, Jul  5 2023, 08:54:11) [Clang 14.0.6 ]\n",
      "pandas           : 2.2.3\n",
      "numpy            : 2.2.3\n",
      "matplotlib       : 3.10.1\n",
      "seaborn          : 0.13.2\n",
      "scikit-learn     : 1.6.1\n",
      "skimpy           : 0.0.18\n"
     ]
    }
   ],
   "source": [
    "import matplotlib\n",
    "import sklearn\n",
    "import skimpy\n",
    "from importlib.metadata import version\n",
    "\n",
    "libraries = {\n",
    "    \"Python\": sys.version,\n",
    "    \"pandas\": pd.__version__,\n",
    "    \"numpy\": np.__version__,\n",
    "    \"matplotlib\": matplotlib.__version__,\n",
    "    \"seaborn\": sns.__version__,\n",
    "    \"scikit-learn\": sklearn.__version__,\n",
    "    \"skimpy\": version(\"skimpy\")\n",
    "}\n",
    "\n",
    "for lib, version in libraries.items():\n",
    "    print(f\"{lib:<17}: {version}\")"
   ]
  },
  {
   "cell_type": "markdown",
   "metadata": {},
   "source": [
    "### Load data"
   ]
  },
  {
   "cell_type": "code",
   "execution_count": null,
   "metadata": {
    "execution": {
     "iopub.execute_input": "2024-06-21T21:52:38.411635Z",
     "iopub.status.busy": "2024-06-21T21:52:38.410220Z",
     "iopub.status.idle": "2024-06-21T21:52:38.473358Z",
     "shell.execute_reply": "2024-06-21T21:52:38.471998Z",
     "shell.execute_reply.started": "2024-06-21T21:52:38.411591Z"
    },
    "trusted": true
   },
   "outputs": [
    {
     "data": {
      "text/html": [
       "<div>\n",
       "<style scoped>\n",
       "    .dataframe tbody tr th:only-of-type {\n",
       "        vertical-align: middle;\n",
       "    }\n",
       "\n",
       "    .dataframe tbody tr th {\n",
       "        vertical-align: top;\n",
       "    }\n",
       "\n",
       "    .dataframe thead th {\n",
       "        text-align: right;\n",
       "    }\n",
       "</style>\n",
       "<table border=\"1\" class=\"dataframe\">\n",
       "  <thead>\n",
       "    <tr style=\"text-align: right;\">\n",
       "      <th></th>\n",
       "      <th>CustomerID</th>\n",
       "      <th>Age</th>\n",
       "      <th>Gender</th>\n",
       "      <th>Income</th>\n",
       "      <th>CampaignChannel</th>\n",
       "      <th>CampaignType</th>\n",
       "      <th>AdSpend</th>\n",
       "      <th>ClickThroughRate</th>\n",
       "      <th>ConversionRate</th>\n",
       "      <th>WebsiteVisits</th>\n",
       "      <th>PagesPerVisit</th>\n",
       "      <th>TimeOnSite</th>\n",
       "      <th>SocialShares</th>\n",
       "      <th>EmailOpens</th>\n",
       "      <th>EmailClicks</th>\n",
       "      <th>PreviousPurchases</th>\n",
       "      <th>LoyaltyPoints</th>\n",
       "      <th>AdvertisingPlatform</th>\n",
       "      <th>AdvertisingTool</th>\n",
       "      <th>Conversion</th>\n",
       "    </tr>\n",
       "  </thead>\n",
       "  <tbody>\n",
       "    <tr>\n",
       "      <th>0</th>\n",
       "      <td>8000</td>\n",
       "      <td>56</td>\n",
       "      <td>Female</td>\n",
       "      <td>136912</td>\n",
       "      <td>Social Media</td>\n",
       "      <td>Awareness</td>\n",
       "      <td>6497.870068</td>\n",
       "      <td>0.043919</td>\n",
       "      <td>0.088031</td>\n",
       "      <td>0</td>\n",
       "      <td>2.399017</td>\n",
       "      <td>7.396803</td>\n",
       "      <td>19</td>\n",
       "      <td>6</td>\n",
       "      <td>9</td>\n",
       "      <td>4</td>\n",
       "      <td>688</td>\n",
       "      <td>IsConfid</td>\n",
       "      <td>ToolConfid</td>\n",
       "      <td>1</td>\n",
       "    </tr>\n",
       "    <tr>\n",
       "      <th>1</th>\n",
       "      <td>8001</td>\n",
       "      <td>69</td>\n",
       "      <td>Male</td>\n",
       "      <td>41760</td>\n",
       "      <td>Email</td>\n",
       "      <td>Retention</td>\n",
       "      <td>3898.668606</td>\n",
       "      <td>0.155725</td>\n",
       "      <td>0.182725</td>\n",
       "      <td>42</td>\n",
       "      <td>2.917138</td>\n",
       "      <td>5.352549</td>\n",
       "      <td>5</td>\n",
       "      <td>2</td>\n",
       "      <td>7</td>\n",
       "      <td>2</td>\n",
       "      <td>3459</td>\n",
       "      <td>IsConfid</td>\n",
       "      <td>ToolConfid</td>\n",
       "      <td>1</td>\n",
       "    </tr>\n",
       "    <tr>\n",
       "      <th>2</th>\n",
       "      <td>8002</td>\n",
       "      <td>46</td>\n",
       "      <td>Female</td>\n",
       "      <td>88456</td>\n",
       "      <td>PPC</td>\n",
       "      <td>Awareness</td>\n",
       "      <td>1546.429596</td>\n",
       "      <td>0.277490</td>\n",
       "      <td>0.076423</td>\n",
       "      <td>2</td>\n",
       "      <td>8.223619</td>\n",
       "      <td>13.794901</td>\n",
       "      <td>0</td>\n",
       "      <td>11</td>\n",
       "      <td>2</td>\n",
       "      <td>8</td>\n",
       "      <td>2337</td>\n",
       "      <td>IsConfid</td>\n",
       "      <td>ToolConfid</td>\n",
       "      <td>1</td>\n",
       "    </tr>\n",
       "    <tr>\n",
       "      <th>3</th>\n",
       "      <td>8003</td>\n",
       "      <td>32</td>\n",
       "      <td>Female</td>\n",
       "      <td>44085</td>\n",
       "      <td>PPC</td>\n",
       "      <td>Conversion</td>\n",
       "      <td>539.525936</td>\n",
       "      <td>0.137611</td>\n",
       "      <td>0.088004</td>\n",
       "      <td>47</td>\n",
       "      <td>4.540939</td>\n",
       "      <td>14.688363</td>\n",
       "      <td>89</td>\n",
       "      <td>2</td>\n",
       "      <td>2</td>\n",
       "      <td>0</td>\n",
       "      <td>2463</td>\n",
       "      <td>IsConfid</td>\n",
       "      <td>ToolConfid</td>\n",
       "      <td>1</td>\n",
       "    </tr>\n",
       "    <tr>\n",
       "      <th>4</th>\n",
       "      <td>8004</td>\n",
       "      <td>60</td>\n",
       "      <td>Female</td>\n",
       "      <td>83964</td>\n",
       "      <td>PPC</td>\n",
       "      <td>Conversion</td>\n",
       "      <td>1678.043573</td>\n",
       "      <td>0.252851</td>\n",
       "      <td>0.109940</td>\n",
       "      <td>0</td>\n",
       "      <td>2.046847</td>\n",
       "      <td>13.993370</td>\n",
       "      <td>6</td>\n",
       "      <td>6</td>\n",
       "      <td>6</td>\n",
       "      <td>8</td>\n",
       "      <td>4345</td>\n",
       "      <td>IsConfid</td>\n",
       "      <td>ToolConfid</td>\n",
       "      <td>1</td>\n",
       "    </tr>\n",
       "  </tbody>\n",
       "</table>\n",
       "</div>"
      ],
      "text/plain": [
       "   CustomerID  Age  Gender  Income CampaignChannel CampaignType      AdSpend   \n",
       "0        8000   56  Female  136912    Social Media    Awareness  6497.870068  \\\n",
       "1        8001   69    Male   41760           Email    Retention  3898.668606   \n",
       "2        8002   46  Female   88456             PPC    Awareness  1546.429596   \n",
       "3        8003   32  Female   44085             PPC   Conversion   539.525936   \n",
       "4        8004   60  Female   83964             PPC   Conversion  1678.043573   \n",
       "\n",
       "   ClickThroughRate  ConversionRate  WebsiteVisits  PagesPerVisit  TimeOnSite   \n",
       "0          0.043919        0.088031              0       2.399017    7.396803  \\\n",
       "1          0.155725        0.182725             42       2.917138    5.352549   \n",
       "2          0.277490        0.076423              2       8.223619   13.794901   \n",
       "3          0.137611        0.088004             47       4.540939   14.688363   \n",
       "4          0.252851        0.109940              0       2.046847   13.993370   \n",
       "\n",
       "   SocialShares  EmailOpens  EmailClicks  PreviousPurchases  LoyaltyPoints   \n",
       "0            19           6            9                  4            688  \\\n",
       "1             5           2            7                  2           3459   \n",
       "2             0          11            2                  8           2337   \n",
       "3            89           2            2                  0           2463   \n",
       "4             6           6            6                  8           4345   \n",
       "\n",
       "  AdvertisingPlatform AdvertisingTool  Conversion  \n",
       "0            IsConfid      ToolConfid           1  \n",
       "1            IsConfid      ToolConfid           1  \n",
       "2            IsConfid      ToolConfid           1  \n",
       "3            IsConfid      ToolConfid           1  \n",
       "4            IsConfid      ToolConfid           1  "
      ]
     },
     "execution_count": 19,
     "metadata": {},
     "output_type": "execute_result"
    }
   ],
   "source": [
    "data = pd.read_csv(\"../data/digital_marketing_campaign_dataset.csv\")\n",
    "data.head()"
   ]
  },
  {
   "cell_type": "markdown",
   "metadata": {},
   "source": [
    "### EDA"
   ]
  },
  {
   "cell_type": "code",
   "execution_count": null,
   "metadata": {
    "execution": {
     "iopub.execute_input": "2024-06-21T21:52:40.032382Z",
     "iopub.status.busy": "2024-06-21T21:52:40.031939Z",
     "iopub.status.idle": "2024-06-21T21:52:40.265396Z",
     "shell.execute_reply": "2024-06-21T21:52:40.264055Z",
     "shell.execute_reply.started": "2024-06-21T21:52:40.032348Z"
    },
    "trusted": true
   },
   "outputs": [
    {
     "data": {
      "text/html": [
       "<pre style=\"white-space:pre;overflow-x:auto;line-height:normal;font-family:Menlo,'DejaVu Sans Mono',consolas,'Courier New',monospace\">╭──────────────────────────────────────────────── skimpy summary ─────────────────────────────────────────────────╮\n",
       "│ <span style=\"font-style: italic\">         Data Summary         </span> <span style=\"font-style: italic\">      Data Types       </span>                                                          │\n",
       "│ ┏━━━━━━━━━━━━━━━━━━━┳━━━━━━━━┓ ┏━━━━━━━━━━━━━┳━━━━━━━┓                                                          │\n",
       "│ ┃<span style=\"color: #008080; text-decoration-color: #008080; font-weight: bold\"> dataframe         </span>┃<span style=\"color: #008080; text-decoration-color: #008080; font-weight: bold\"> Values </span>┃ ┃<span style=\"color: #008080; text-decoration-color: #008080; font-weight: bold\"> Column Type </span>┃<span style=\"color: #008080; text-decoration-color: #008080; font-weight: bold\"> Count </span>┃                                                          │\n",
       "│ ┡━━━━━━━━━━━━━━━━━━━╇━━━━━━━━┩ ┡━━━━━━━━━━━━━╇━━━━━━━┩                                                          │\n",
       "│ │ Number of rows    │ 8000   │ │ int64       │ 10    │                                                          │\n",
       "│ │ Number of columns │ 20     │ │ string      │ 5     │                                                          │\n",
       "│ └───────────────────┴────────┘ │ float64     │ 5     │                                                          │\n",
       "│                                └─────────────┴───────┘                                                          │\n",
       "│ <span style=\"font-style: italic\">                                                    number                                                    </span>  │\n",
       "│ ┏━━━━━━━━━━━━━━━━━━━━┳━━━━━┳━━━━━━┳━━━━━━━━┳━━━━━━━━━┳━━━━━━━━━┳━━━━━━━━━┳━━━━━━━━┳━━━━━━━━┳━━━━━━━━┳━━━━━━━━┓  │\n",
       "│ ┃<span style=\"font-weight: bold\"> column_name        </span>┃<span style=\"font-weight: bold\"> NA  </span>┃<span style=\"font-weight: bold\"> NA % </span>┃<span style=\"font-weight: bold\"> mean   </span>┃<span style=\"font-weight: bold\"> sd      </span>┃<span style=\"font-weight: bold\"> p0      </span>┃<span style=\"font-weight: bold\"> p25     </span>┃<span style=\"font-weight: bold\"> p50    </span>┃<span style=\"font-weight: bold\"> p75    </span>┃<span style=\"font-weight: bold\"> p100   </span>┃<span style=\"font-weight: bold\"> hist   </span>┃  │\n",
       "│ ┡━━━━━━━━━━━━━━━━━━━━╇━━━━━╇━━━━━━╇━━━━━━━━╇━━━━━━━━━╇━━━━━━━━━╇━━━━━━━━━╇━━━━━━━━╇━━━━━━━━╇━━━━━━━━╇━━━━━━━━┩  │\n",
       "│ │ <span style=\"color: #af87ff; text-decoration-color: #af87ff\">CustomerID        </span> │ <span style=\"color: #008080; text-decoration-color: #008080\">  0</span> │ <span style=\"color: #008080; text-decoration-color: #008080\">   0</span> │ <span style=\"color: #008080; text-decoration-color: #008080\"> 12000</span> │ <span style=\"color: #008080; text-decoration-color: #008080\">   2310</span> │ <span style=\"color: #008080; text-decoration-color: #008080\">   8000</span> │ <span style=\"color: #008080; text-decoration-color: #008080\">  10000</span> │ <span style=\"color: #008080; text-decoration-color: #008080\"> 12000</span> │ <span style=\"color: #008080; text-decoration-color: #008080\"> 14000</span> │ <span style=\"color: #008080; text-decoration-color: #008080\"> 16000</span> │ <span style=\"color: #008000; text-decoration-color: #008000\">▇▇▇▇▇▇</span> │  │\n",
       "│ │ <span style=\"color: #af87ff; text-decoration-color: #af87ff\">Age               </span> │ <span style=\"color: #008080; text-decoration-color: #008080\">  0</span> │ <span style=\"color: #008080; text-decoration-color: #008080\">   0</span> │ <span style=\"color: #008080; text-decoration-color: #008080\"> 43.63</span> │ <span style=\"color: #008080; text-decoration-color: #008080\">   14.9</span> │ <span style=\"color: #008080; text-decoration-color: #008080\">     18</span> │ <span style=\"color: #008080; text-decoration-color: #008080\">     31</span> │ <span style=\"color: #008080; text-decoration-color: #008080\">    43</span> │ <span style=\"color: #008080; text-decoration-color: #008080\">    56</span> │ <span style=\"color: #008080; text-decoration-color: #008080\">    69</span> │ <span style=\"color: #008000; text-decoration-color: #008000\">▇▇▇▇▇▇</span> │  │\n",
       "│ │ <span style=\"color: #af87ff; text-decoration-color: #af87ff\">Income            </span> │ <span style=\"color: #008080; text-decoration-color: #008080\">  0</span> │ <span style=\"color: #008080; text-decoration-color: #008080\">   0</span> │ <span style=\"color: #008080; text-decoration-color: #008080\"> 84660</span> │ <span style=\"color: #008080; text-decoration-color: #008080\">  37580</span> │ <span style=\"color: #008080; text-decoration-color: #008080\">  20010</span> │ <span style=\"color: #008080; text-decoration-color: #008080\">  51740</span> │ <span style=\"color: #008080; text-decoration-color: #008080\"> 84930</span> │ <span style=\"color: #008080; text-decoration-color: #008080\">116800</span> │ <span style=\"color: #008080; text-decoration-color: #008080\">150000</span> │ <span style=\"color: #008000; text-decoration-color: #008000\">▇▇▇▇▇▇</span> │  │\n",
       "│ │ <span style=\"color: #af87ff; text-decoration-color: #af87ff\">AdSpend           </span> │ <span style=\"color: #008080; text-decoration-color: #008080\">  0</span> │ <span style=\"color: #008080; text-decoration-color: #008080\">   0</span> │ <span style=\"color: #008080; text-decoration-color: #008080\">  5001</span> │ <span style=\"color: #008080; text-decoration-color: #008080\">   2838</span> │ <span style=\"color: #008080; text-decoration-color: #008080\">  100.1</span> │ <span style=\"color: #008080; text-decoration-color: #008080\">   2523</span> │ <span style=\"color: #008080; text-decoration-color: #008080\">  5013</span> │ <span style=\"color: #008080; text-decoration-color: #008080\">  7408</span> │ <span style=\"color: #008080; text-decoration-color: #008080\">  9998</span> │ <span style=\"color: #008000; text-decoration-color: #008000\">▇▇▇▇▇▇</span> │  │\n",
       "│ │ <span style=\"color: #af87ff; text-decoration-color: #af87ff\">ClickThroughRate  </span> │ <span style=\"color: #008080; text-decoration-color: #008080\">  0</span> │ <span style=\"color: #008080; text-decoration-color: #008080\">   0</span> │ <span style=\"color: #008080; text-decoration-color: #008080\">0.1548</span> │ <span style=\"color: #008080; text-decoration-color: #008080\">0.08401</span> │ <span style=\"color: #008080; text-decoration-color: #008080\">   0.01</span> │ <span style=\"color: #008080; text-decoration-color: #008080\">0.08263</span> │ <span style=\"color: #008080; text-decoration-color: #008080\">0.1545</span> │ <span style=\"color: #008080; text-decoration-color: #008080\">0.2282</span> │ <span style=\"color: #008080; text-decoration-color: #008080\">   0.3</span> │ <span style=\"color: #008000; text-decoration-color: #008000\">▇▇▇▇▇▇</span> │  │\n",
       "│ │ <span style=\"color: #af87ff; text-decoration-color: #af87ff\">ConversionRate    </span> │ <span style=\"color: #008080; text-decoration-color: #008080\">  0</span> │ <span style=\"color: #008080; text-decoration-color: #008080\">   0</span> │ <span style=\"color: #008080; text-decoration-color: #008080\">0.1044</span> │ <span style=\"color: #008080; text-decoration-color: #008080\">0.05488</span> │ <span style=\"color: #008080; text-decoration-color: #008080\">0.01002</span> │ <span style=\"color: #008080; text-decoration-color: #008080\">0.05641</span> │ <span style=\"color: #008080; text-decoration-color: #008080\"> 0.104</span> │ <span style=\"color: #008080; text-decoration-color: #008080\">0.1521</span> │ <span style=\"color: #008080; text-decoration-color: #008080\">   0.2</span> │ <span style=\"color: #008000; text-decoration-color: #008000\">▇▇▇▇▇▇</span> │  │\n",
       "│ │ <span style=\"color: #af87ff; text-decoration-color: #af87ff\">WebsiteVisits     </span> │ <span style=\"color: #008080; text-decoration-color: #008080\">  0</span> │ <span style=\"color: #008080; text-decoration-color: #008080\">   0</span> │ <span style=\"color: #008080; text-decoration-color: #008080\"> 24.75</span> │ <span style=\"color: #008080; text-decoration-color: #008080\">  14.31</span> │ <span style=\"color: #008080; text-decoration-color: #008080\">      0</span> │ <span style=\"color: #008080; text-decoration-color: #008080\">     13</span> │ <span style=\"color: #008080; text-decoration-color: #008080\">    25</span> │ <span style=\"color: #008080; text-decoration-color: #008080\">    37</span> │ <span style=\"color: #008080; text-decoration-color: #008080\">    49</span> │ <span style=\"color: #008000; text-decoration-color: #008000\">▇▇▇▇▇▇</span> │  │\n",
       "│ │ <span style=\"color: #af87ff; text-decoration-color: #af87ff\">PagesPerVisit     </span> │ <span style=\"color: #008080; text-decoration-color: #008080\">  0</span> │ <span style=\"color: #008080; text-decoration-color: #008080\">   0</span> │ <span style=\"color: #008080; text-decoration-color: #008080\"> 5.549</span> │ <span style=\"color: #008080; text-decoration-color: #008080\">  2.607</span> │ <span style=\"color: #008080; text-decoration-color: #008080\">      1</span> │ <span style=\"color: #008080; text-decoration-color: #008080\">  3.302</span> │ <span style=\"color: #008080; text-decoration-color: #008080\"> 5.534</span> │ <span style=\"color: #008080; text-decoration-color: #008080\"> 7.836</span> │ <span style=\"color: #008080; text-decoration-color: #008080\"> 9.999</span> │ <span style=\"color: #008000; text-decoration-color: #008000\">▇▇▇▇▇▇</span> │  │\n",
       "│ │ <span style=\"color: #af87ff; text-decoration-color: #af87ff\">TimeOnSite        </span> │ <span style=\"color: #008080; text-decoration-color: #008080\">  0</span> │ <span style=\"color: #008080; text-decoration-color: #008080\">   0</span> │ <span style=\"color: #008080; text-decoration-color: #008080\"> 7.728</span> │ <span style=\"color: #008080; text-decoration-color: #008080\">  4.228</span> │ <span style=\"color: #008080; text-decoration-color: #008080\"> 0.5017</span> │ <span style=\"color: #008080; text-decoration-color: #008080\">  4.068</span> │ <span style=\"color: #008080; text-decoration-color: #008080\"> 7.683</span> │ <span style=\"color: #008080; text-decoration-color: #008080\"> 11.48</span> │ <span style=\"color: #008080; text-decoration-color: #008080\">    15</span> │ <span style=\"color: #008000; text-decoration-color: #008000\">▇▇▇▇▇▇</span> │  │\n",
       "│ │ <span style=\"color: #af87ff; text-decoration-color: #af87ff\">SocialShares      </span> │ <span style=\"color: #008080; text-decoration-color: #008080\">  0</span> │ <span style=\"color: #008080; text-decoration-color: #008080\">   0</span> │ <span style=\"color: #008080; text-decoration-color: #008080\">  49.8</span> │ <span style=\"color: #008080; text-decoration-color: #008080\">   28.9</span> │ <span style=\"color: #008080; text-decoration-color: #008080\">      0</span> │ <span style=\"color: #008080; text-decoration-color: #008080\">     25</span> │ <span style=\"color: #008080; text-decoration-color: #008080\">    50</span> │ <span style=\"color: #008080; text-decoration-color: #008080\">    75</span> │ <span style=\"color: #008080; text-decoration-color: #008080\">    99</span> │ <span style=\"color: #008000; text-decoration-color: #008000\">▇▇▇▇▇▇</span> │  │\n",
       "│ │ <span style=\"color: #af87ff; text-decoration-color: #af87ff\">EmailOpens        </span> │ <span style=\"color: #008080; text-decoration-color: #008080\">  0</span> │ <span style=\"color: #008080; text-decoration-color: #008080\">   0</span> │ <span style=\"color: #008080; text-decoration-color: #008080\"> 9.477</span> │ <span style=\"color: #008080; text-decoration-color: #008080\">  5.711</span> │ <span style=\"color: #008080; text-decoration-color: #008080\">      0</span> │ <span style=\"color: #008080; text-decoration-color: #008080\">      5</span> │ <span style=\"color: #008080; text-decoration-color: #008080\">     9</span> │ <span style=\"color: #008080; text-decoration-color: #008080\">    14</span> │ <span style=\"color: #008080; text-decoration-color: #008080\">    19</span> │ <span style=\"color: #008000; text-decoration-color: #008000\">▇▆▇▆▆▇</span> │  │\n",
       "│ │ <span style=\"color: #af87ff; text-decoration-color: #af87ff\">EmailClicks       </span> │ <span style=\"color: #008080; text-decoration-color: #008080\">  0</span> │ <span style=\"color: #008080; text-decoration-color: #008080\">   0</span> │ <span style=\"color: #008080; text-decoration-color: #008080\"> 4.467</span> │ <span style=\"color: #008080; text-decoration-color: #008080\">  2.857</span> │ <span style=\"color: #008080; text-decoration-color: #008080\">      0</span> │ <span style=\"color: #008080; text-decoration-color: #008080\">      2</span> │ <span style=\"color: #008080; text-decoration-color: #008080\">     4</span> │ <span style=\"color: #008080; text-decoration-color: #008080\">     7</span> │ <span style=\"color: #008080; text-decoration-color: #008080\">     9</span> │ <span style=\"color: #008000; text-decoration-color: #008000\">▇▃▇▃▇▇</span> │  │\n",
       "│ │ <span style=\"color: #af87ff; text-decoration-color: #af87ff\">PreviousPurchases </span> │ <span style=\"color: #008080; text-decoration-color: #008080\">  0</span> │ <span style=\"color: #008080; text-decoration-color: #008080\">   0</span> │ <span style=\"color: #008080; text-decoration-color: #008080\"> 4.486</span> │ <span style=\"color: #008080; text-decoration-color: #008080\">  2.888</span> │ <span style=\"color: #008080; text-decoration-color: #008080\">      0</span> │ <span style=\"color: #008080; text-decoration-color: #008080\">      2</span> │ <span style=\"color: #008080; text-decoration-color: #008080\">     4</span> │ <span style=\"color: #008080; text-decoration-color: #008080\">     7</span> │ <span style=\"color: #008080; text-decoration-color: #008080\">     9</span> │ <span style=\"color: #008000; text-decoration-color: #008000\">▇▃▇▃▇▇</span> │  │\n",
       "│ │ <span style=\"color: #af87ff; text-decoration-color: #af87ff\">LoyaltyPoints     </span> │ <span style=\"color: #008080; text-decoration-color: #008080\">  0</span> │ <span style=\"color: #008080; text-decoration-color: #008080\">   0</span> │ <span style=\"color: #008080; text-decoration-color: #008080\">  2490</span> │ <span style=\"color: #008080; text-decoration-color: #008080\">   1430</span> │ <span style=\"color: #008080; text-decoration-color: #008080\">      0</span> │ <span style=\"color: #008080; text-decoration-color: #008080\">   1255</span> │ <span style=\"color: #008080; text-decoration-color: #008080\">  2497</span> │ <span style=\"color: #008080; text-decoration-color: #008080\">  3702</span> │ <span style=\"color: #008080; text-decoration-color: #008080\">  4999</span> │ <span style=\"color: #008000; text-decoration-color: #008000\">▇▇▇▇▇▇</span> │  │\n",
       "│ │ <span style=\"color: #af87ff; text-decoration-color: #af87ff\">Conversion        </span> │ <span style=\"color: #008080; text-decoration-color: #008080\">  0</span> │ <span style=\"color: #008080; text-decoration-color: #008080\">   0</span> │ <span style=\"color: #008080; text-decoration-color: #008080\">0.8765</span> │ <span style=\"color: #008080; text-decoration-color: #008080\">  0.329</span> │ <span style=\"color: #008080; text-decoration-color: #008080\">      0</span> │ <span style=\"color: #008080; text-decoration-color: #008080\">      1</span> │ <span style=\"color: #008080; text-decoration-color: #008080\">     1</span> │ <span style=\"color: #008080; text-decoration-color: #008080\">     1</span> │ <span style=\"color: #008080; text-decoration-color: #008080\">     1</span> │ <span style=\"color: #008000; text-decoration-color: #008000\">▁    ▇</span> │  │\n",
       "│ └────────────────────┴─────┴──────┴────────┴─────────┴─────────┴─────────┴────────┴────────┴────────┴────────┘  │\n",
       "│ <span style=\"font-style: italic\">                                                    string                                                    </span>  │\n",
       "│ ┏━━━━━━━━━━━━━━━━━━━━━━━━━━━━━━━━━━━━━━┳━━━━━━━┳━━━━━━━━━━━┳━━━━━━━━━━━━━━━━━━━━━━━━━━┳━━━━━━━━━━━━━━━━━━━━━━┓  │\n",
       "│ ┃<span style=\"font-weight: bold\"> column_name                          </span>┃<span style=\"font-weight: bold\"> NA    </span>┃<span style=\"font-weight: bold\"> NA %      </span>┃<span style=\"font-weight: bold\"> words per row            </span>┃<span style=\"font-weight: bold\"> total words          </span>┃  │\n",
       "│ ┡━━━━━━━━━━━━━━━━━━━━━━━━━━━━━━━━━━━━━━╇━━━━━━━╇━━━━━━━━━━━╇━━━━━━━━━━━━━━━━━━━━━━━━━━╇━━━━━━━━━━━━━━━━━━━━━━┩  │\n",
       "│ │ <span style=\"color: #af87ff; text-decoration-color: #af87ff\">Gender                              </span> │ <span style=\"color: #008080; text-decoration-color: #008080\">    0</span> │ <span style=\"color: #008080; text-decoration-color: #008080\">        0</span> │ <span style=\"color: #008080; text-decoration-color: #008080\">                       1</span> │ <span style=\"color: #008080; text-decoration-color: #008080\">                8000</span> │  │\n",
       "│ │ <span style=\"color: #af87ff; text-decoration-color: #af87ff\">CampaignChannel                     </span> │ <span style=\"color: #008080; text-decoration-color: #008080\">    0</span> │ <span style=\"color: #008080; text-decoration-color: #008080\">        0</span> │ <span style=\"color: #008080; text-decoration-color: #008080\">                     1.2</span> │ <span style=\"color: #008080; text-decoration-color: #008080\">                9519</span> │  │\n",
       "│ │ <span style=\"color: #af87ff; text-decoration-color: #af87ff\">CampaignType                        </span> │ <span style=\"color: #008080; text-decoration-color: #008080\">    0</span> │ <span style=\"color: #008080; text-decoration-color: #008080\">        0</span> │ <span style=\"color: #008080; text-decoration-color: #008080\">                       1</span> │ <span style=\"color: #008080; text-decoration-color: #008080\">                8000</span> │  │\n",
       "│ │ <span style=\"color: #af87ff; text-decoration-color: #af87ff\">AdvertisingPlatform                 </span> │ <span style=\"color: #008080; text-decoration-color: #008080\">    0</span> │ <span style=\"color: #008080; text-decoration-color: #008080\">        0</span> │ <span style=\"color: #008080; text-decoration-color: #008080\">                       1</span> │ <span style=\"color: #008080; text-decoration-color: #008080\">                8000</span> │  │\n",
       "│ │ <span style=\"color: #af87ff; text-decoration-color: #af87ff\">AdvertisingTool                     </span> │ <span style=\"color: #008080; text-decoration-color: #008080\">    0</span> │ <span style=\"color: #008080; text-decoration-color: #008080\">        0</span> │ <span style=\"color: #008080; text-decoration-color: #008080\">                       1</span> │ <span style=\"color: #008080; text-decoration-color: #008080\">                8000</span> │  │\n",
       "│ └──────────────────────────────────────┴───────┴───────────┴──────────────────────────┴──────────────────────┘  │\n",
       "╰────────────────────────────────────────────────────── End ──────────────────────────────────────────────────────╯\n",
       "</pre>\n"
      ],
      "text/plain": [
       "╭──────────────────────────────────────────────── skimpy summary ─────────────────────────────────────────────────╮\n",
       "│ \u001b[3m         Data Summary         \u001b[0m \u001b[3m      Data Types       \u001b[0m                                                          │\n",
       "│ ┏━━━━━━━━━━━━━━━━━━━┳━━━━━━━━┓ ┏━━━━━━━━━━━━━┳━━━━━━━┓                                                          │\n",
       "│ ┃\u001b[1;36m \u001b[0m\u001b[1;36mdataframe        \u001b[0m\u001b[1;36m \u001b[0m┃\u001b[1;36m \u001b[0m\u001b[1;36mValues\u001b[0m\u001b[1;36m \u001b[0m┃ ┃\u001b[1;36m \u001b[0m\u001b[1;36mColumn Type\u001b[0m\u001b[1;36m \u001b[0m┃\u001b[1;36m \u001b[0m\u001b[1;36mCount\u001b[0m\u001b[1;36m \u001b[0m┃                                                          │\n",
       "│ ┡━━━━━━━━━━━━━━━━━━━╇━━━━━━━━┩ ┡━━━━━━━━━━━━━╇━━━━━━━┩                                                          │\n",
       "│ │ Number of rows    │ 8000   │ │ int64       │ 10    │                                                          │\n",
       "│ │ Number of columns │ 20     │ │ string      │ 5     │                                                          │\n",
       "│ └───────────────────┴────────┘ │ float64     │ 5     │                                                          │\n",
       "│                                └─────────────┴───────┘                                                          │\n",
       "│ \u001b[3m                                                    number                                                    \u001b[0m  │\n",
       "│ ┏━━━━━━━━━━━━━━━━━━━━┳━━━━━┳━━━━━━┳━━━━━━━━┳━━━━━━━━━┳━━━━━━━━━┳━━━━━━━━━┳━━━━━━━━┳━━━━━━━━┳━━━━━━━━┳━━━━━━━━┓  │\n",
       "│ ┃\u001b[1m \u001b[0m\u001b[1mcolumn_name       \u001b[0m\u001b[1m \u001b[0m┃\u001b[1m \u001b[0m\u001b[1mNA \u001b[0m\u001b[1m \u001b[0m┃\u001b[1m \u001b[0m\u001b[1mNA %\u001b[0m\u001b[1m \u001b[0m┃\u001b[1m \u001b[0m\u001b[1mmean  \u001b[0m\u001b[1m \u001b[0m┃\u001b[1m \u001b[0m\u001b[1msd     \u001b[0m\u001b[1m \u001b[0m┃\u001b[1m \u001b[0m\u001b[1mp0     \u001b[0m\u001b[1m \u001b[0m┃\u001b[1m \u001b[0m\u001b[1mp25    \u001b[0m\u001b[1m \u001b[0m┃\u001b[1m \u001b[0m\u001b[1mp50   \u001b[0m\u001b[1m \u001b[0m┃\u001b[1m \u001b[0m\u001b[1mp75   \u001b[0m\u001b[1m \u001b[0m┃\u001b[1m \u001b[0m\u001b[1mp100  \u001b[0m\u001b[1m \u001b[0m┃\u001b[1m \u001b[0m\u001b[1mhist  \u001b[0m\u001b[1m \u001b[0m┃  │\n",
       "│ ┡━━━━━━━━━━━━━━━━━━━━╇━━━━━╇━━━━━━╇━━━━━━━━╇━━━━━━━━━╇━━━━━━━━━╇━━━━━━━━━╇━━━━━━━━╇━━━━━━━━╇━━━━━━━━╇━━━━━━━━┩  │\n",
       "│ │ \u001b[38;5;141mCustomerID        \u001b[0m │ \u001b[36m  0\u001b[0m │ \u001b[36m   0\u001b[0m │ \u001b[36m 12000\u001b[0m │ \u001b[36m   2310\u001b[0m │ \u001b[36m   8000\u001b[0m │ \u001b[36m  10000\u001b[0m │ \u001b[36m 12000\u001b[0m │ \u001b[36m 14000\u001b[0m │ \u001b[36m 16000\u001b[0m │ \u001b[32m▇▇▇▇▇▇\u001b[0m │  │\n",
       "│ │ \u001b[38;5;141mAge               \u001b[0m │ \u001b[36m  0\u001b[0m │ \u001b[36m   0\u001b[0m │ \u001b[36m 43.63\u001b[0m │ \u001b[36m   14.9\u001b[0m │ \u001b[36m     18\u001b[0m │ \u001b[36m     31\u001b[0m │ \u001b[36m    43\u001b[0m │ \u001b[36m    56\u001b[0m │ \u001b[36m    69\u001b[0m │ \u001b[32m▇▇▇▇▇▇\u001b[0m │  │\n",
       "│ │ \u001b[38;5;141mIncome            \u001b[0m │ \u001b[36m  0\u001b[0m │ \u001b[36m   0\u001b[0m │ \u001b[36m 84660\u001b[0m │ \u001b[36m  37580\u001b[0m │ \u001b[36m  20010\u001b[0m │ \u001b[36m  51740\u001b[0m │ \u001b[36m 84930\u001b[0m │ \u001b[36m116800\u001b[0m │ \u001b[36m150000\u001b[0m │ \u001b[32m▇▇▇▇▇▇\u001b[0m │  │\n",
       "│ │ \u001b[38;5;141mAdSpend           \u001b[0m │ \u001b[36m  0\u001b[0m │ \u001b[36m   0\u001b[0m │ \u001b[36m  5001\u001b[0m │ \u001b[36m   2838\u001b[0m │ \u001b[36m  100.1\u001b[0m │ \u001b[36m   2523\u001b[0m │ \u001b[36m  5013\u001b[0m │ \u001b[36m  7408\u001b[0m │ \u001b[36m  9998\u001b[0m │ \u001b[32m▇▇▇▇▇▇\u001b[0m │  │\n",
       "│ │ \u001b[38;5;141mClickThroughRate  \u001b[0m │ \u001b[36m  0\u001b[0m │ \u001b[36m   0\u001b[0m │ \u001b[36m0.1548\u001b[0m │ \u001b[36m0.08401\u001b[0m │ \u001b[36m   0.01\u001b[0m │ \u001b[36m0.08263\u001b[0m │ \u001b[36m0.1545\u001b[0m │ \u001b[36m0.2282\u001b[0m │ \u001b[36m   0.3\u001b[0m │ \u001b[32m▇▇▇▇▇▇\u001b[0m │  │\n",
       "│ │ \u001b[38;5;141mConversionRate    \u001b[0m │ \u001b[36m  0\u001b[0m │ \u001b[36m   0\u001b[0m │ \u001b[36m0.1044\u001b[0m │ \u001b[36m0.05488\u001b[0m │ \u001b[36m0.01002\u001b[0m │ \u001b[36m0.05641\u001b[0m │ \u001b[36m 0.104\u001b[0m │ \u001b[36m0.1521\u001b[0m │ \u001b[36m   0.2\u001b[0m │ \u001b[32m▇▇▇▇▇▇\u001b[0m │  │\n",
       "│ │ \u001b[38;5;141mWebsiteVisits     \u001b[0m │ \u001b[36m  0\u001b[0m │ \u001b[36m   0\u001b[0m │ \u001b[36m 24.75\u001b[0m │ \u001b[36m  14.31\u001b[0m │ \u001b[36m      0\u001b[0m │ \u001b[36m     13\u001b[0m │ \u001b[36m    25\u001b[0m │ \u001b[36m    37\u001b[0m │ \u001b[36m    49\u001b[0m │ \u001b[32m▇▇▇▇▇▇\u001b[0m │  │\n",
       "│ │ \u001b[38;5;141mPagesPerVisit     \u001b[0m │ \u001b[36m  0\u001b[0m │ \u001b[36m   0\u001b[0m │ \u001b[36m 5.549\u001b[0m │ \u001b[36m  2.607\u001b[0m │ \u001b[36m      1\u001b[0m │ \u001b[36m  3.302\u001b[0m │ \u001b[36m 5.534\u001b[0m │ \u001b[36m 7.836\u001b[0m │ \u001b[36m 9.999\u001b[0m │ \u001b[32m▇▇▇▇▇▇\u001b[0m │  │\n",
       "│ │ \u001b[38;5;141mTimeOnSite        \u001b[0m │ \u001b[36m  0\u001b[0m │ \u001b[36m   0\u001b[0m │ \u001b[36m 7.728\u001b[0m │ \u001b[36m  4.228\u001b[0m │ \u001b[36m 0.5017\u001b[0m │ \u001b[36m  4.068\u001b[0m │ \u001b[36m 7.683\u001b[0m │ \u001b[36m 11.48\u001b[0m │ \u001b[36m    15\u001b[0m │ \u001b[32m▇▇▇▇▇▇\u001b[0m │  │\n",
       "│ │ \u001b[38;5;141mSocialShares      \u001b[0m │ \u001b[36m  0\u001b[0m │ \u001b[36m   0\u001b[0m │ \u001b[36m  49.8\u001b[0m │ \u001b[36m   28.9\u001b[0m │ \u001b[36m      0\u001b[0m │ \u001b[36m     25\u001b[0m │ \u001b[36m    50\u001b[0m │ \u001b[36m    75\u001b[0m │ \u001b[36m    99\u001b[0m │ \u001b[32m▇▇▇▇▇▇\u001b[0m │  │\n",
       "│ │ \u001b[38;5;141mEmailOpens        \u001b[0m │ \u001b[36m  0\u001b[0m │ \u001b[36m   0\u001b[0m │ \u001b[36m 9.477\u001b[0m │ \u001b[36m  5.711\u001b[0m │ \u001b[36m      0\u001b[0m │ \u001b[36m      5\u001b[0m │ \u001b[36m     9\u001b[0m │ \u001b[36m    14\u001b[0m │ \u001b[36m    19\u001b[0m │ \u001b[32m▇▆▇▆▆▇\u001b[0m │  │\n",
       "│ │ \u001b[38;5;141mEmailClicks       \u001b[0m │ \u001b[36m  0\u001b[0m │ \u001b[36m   0\u001b[0m │ \u001b[36m 4.467\u001b[0m │ \u001b[36m  2.857\u001b[0m │ \u001b[36m      0\u001b[0m │ \u001b[36m      2\u001b[0m │ \u001b[36m     4\u001b[0m │ \u001b[36m     7\u001b[0m │ \u001b[36m     9\u001b[0m │ \u001b[32m▇▃▇▃▇▇\u001b[0m │  │\n",
       "│ │ \u001b[38;5;141mPreviousPurchases \u001b[0m │ \u001b[36m  0\u001b[0m │ \u001b[36m   0\u001b[0m │ \u001b[36m 4.486\u001b[0m │ \u001b[36m  2.888\u001b[0m │ \u001b[36m      0\u001b[0m │ \u001b[36m      2\u001b[0m │ \u001b[36m     4\u001b[0m │ \u001b[36m     7\u001b[0m │ \u001b[36m     9\u001b[0m │ \u001b[32m▇▃▇▃▇▇\u001b[0m │  │\n",
       "│ │ \u001b[38;5;141mLoyaltyPoints     \u001b[0m │ \u001b[36m  0\u001b[0m │ \u001b[36m   0\u001b[0m │ \u001b[36m  2490\u001b[0m │ \u001b[36m   1430\u001b[0m │ \u001b[36m      0\u001b[0m │ \u001b[36m   1255\u001b[0m │ \u001b[36m  2497\u001b[0m │ \u001b[36m  3702\u001b[0m │ \u001b[36m  4999\u001b[0m │ \u001b[32m▇▇▇▇▇▇\u001b[0m │  │\n",
       "│ │ \u001b[38;5;141mConversion        \u001b[0m │ \u001b[36m  0\u001b[0m │ \u001b[36m   0\u001b[0m │ \u001b[36m0.8765\u001b[0m │ \u001b[36m  0.329\u001b[0m │ \u001b[36m      0\u001b[0m │ \u001b[36m      1\u001b[0m │ \u001b[36m     1\u001b[0m │ \u001b[36m     1\u001b[0m │ \u001b[36m     1\u001b[0m │ \u001b[32m▁    ▇\u001b[0m │  │\n",
       "│ └────────────────────┴─────┴──────┴────────┴─────────┴─────────┴─────────┴────────┴────────┴────────┴────────┘  │\n",
       "│ \u001b[3m                                                    string                                                    \u001b[0m  │\n",
       "│ ┏━━━━━━━━━━━━━━━━━━━━━━━━━━━━━━━━━━━━━━┳━━━━━━━┳━━━━━━━━━━━┳━━━━━━━━━━━━━━━━━━━━━━━━━━┳━━━━━━━━━━━━━━━━━━━━━━┓  │\n",
       "│ ┃\u001b[1m \u001b[0m\u001b[1mcolumn_name                         \u001b[0m\u001b[1m \u001b[0m┃\u001b[1m \u001b[0m\u001b[1mNA   \u001b[0m\u001b[1m \u001b[0m┃\u001b[1m \u001b[0m\u001b[1mNA %     \u001b[0m\u001b[1m \u001b[0m┃\u001b[1m \u001b[0m\u001b[1mwords per row           \u001b[0m\u001b[1m \u001b[0m┃\u001b[1m \u001b[0m\u001b[1mtotal words         \u001b[0m\u001b[1m \u001b[0m┃  │\n",
       "│ ┡━━━━━━━━━━━━━━━━━━━━━━━━━━━━━━━━━━━━━━╇━━━━━━━╇━━━━━━━━━━━╇━━━━━━━━━━━━━━━━━━━━━━━━━━╇━━━━━━━━━━━━━━━━━━━━━━┩  │\n",
       "│ │ \u001b[38;5;141mGender                              \u001b[0m │ \u001b[36m    0\u001b[0m │ \u001b[36m        0\u001b[0m │ \u001b[36m                       1\u001b[0m │ \u001b[36m                8000\u001b[0m │  │\n",
       "│ │ \u001b[38;5;141mCampaignChannel                     \u001b[0m │ \u001b[36m    0\u001b[0m │ \u001b[36m        0\u001b[0m │ \u001b[36m                     1.2\u001b[0m │ \u001b[36m                9519\u001b[0m │  │\n",
       "│ │ \u001b[38;5;141mCampaignType                        \u001b[0m │ \u001b[36m    0\u001b[0m │ \u001b[36m        0\u001b[0m │ \u001b[36m                       1\u001b[0m │ \u001b[36m                8000\u001b[0m │  │\n",
       "│ │ \u001b[38;5;141mAdvertisingPlatform                 \u001b[0m │ \u001b[36m    0\u001b[0m │ \u001b[36m        0\u001b[0m │ \u001b[36m                       1\u001b[0m │ \u001b[36m                8000\u001b[0m │  │\n",
       "│ │ \u001b[38;5;141mAdvertisingTool                     \u001b[0m │ \u001b[36m    0\u001b[0m │ \u001b[36m        0\u001b[0m │ \u001b[36m                       1\u001b[0m │ \u001b[36m                8000\u001b[0m │  │\n",
       "│ └──────────────────────────────────────┴───────┴───────────┴──────────────────────────┴──────────────────────┘  │\n",
       "╰────────────────────────────────────────────────────── End ──────────────────────────────────────────────────────╯\n"
      ]
     },
     "metadata": {},
     "output_type": "display_data"
    }
   ],
   "source": [
    "skim(data)"
   ]
  },
  {
   "cell_type": "code",
   "execution_count": null,
   "metadata": {},
   "outputs": [
    {
     "data": {
      "text/plain": [
       "Age                    int64\n",
       "Gender                object\n",
       "Income                 int64\n",
       "CampaignChannel       object\n",
       "CampaignType          object\n",
       "AdSpend              float64\n",
       "ClickThroughRate     float64\n",
       "ConversionRate       float64\n",
       "WebsiteVisits          int64\n",
       "PagesPerVisit        float64\n",
       "TimeOnSite           float64\n",
       "SocialShares           int64\n",
       "EmailOpens             int64\n",
       "EmailClicks            int64\n",
       "PreviousPurchases      int64\n",
       "LoyaltyPoints          int64\n",
       "Conversion             int64\n",
       "dtype: object"
      ]
     },
     "execution_count": 23,
     "metadata": {},
     "output_type": "execute_result"
    }
   ],
   "source": [
    "data.dtypes"
   ]
  },
  {
   "cell_type": "code",
   "execution_count": null,
   "metadata": {
    "execution": {
     "iopub.execute_input": "2024-06-21T21:52:43.866486Z",
     "iopub.status.busy": "2024-06-21T21:52:43.866060Z",
     "iopub.status.idle": "2024-06-21T21:52:43.873764Z",
     "shell.execute_reply": "2024-06-21T21:52:43.872312Z",
     "shell.execute_reply.started": "2024-06-21T21:52:43.866455Z"
    },
    "trusted": true
   },
   "outputs": [],
   "source": [
    "discrete_variables = [\"Age\", \"WebsiteVisits\", \"SocialShares\", \"EmailOpens\", \"EmailClicks\", \"PreviousPurchases\"]\n",
    "continuous_variables = [\"Income\", \"AdSpend\", \"ClickThroughRate\", \"ConversionRate\", \"PagesPerVisit\", \"TimeOnSite\", \"LoyaltyPoints\"]\n",
    "categorical_variables = [\"Gender\", \"CampaignType\", \"Conversion\"]"
   ]
  },
  {
   "cell_type": "markdown",
   "metadata": {},
   "source": [
    "\"AdvertisingPlatform\" and \"AdvertisingTool\" dumb variables, \"CustomerID\" is useful, drop them"
   ]
  },
  {
   "cell_type": "code",
   "execution_count": null,
   "metadata": {
    "execution": {
     "iopub.execute_input": "2024-06-21T21:52:44.916491Z",
     "iopub.status.busy": "2024-06-21T21:52:44.915981Z",
     "iopub.status.idle": "2024-06-21T21:52:44.943234Z",
     "shell.execute_reply": "2024-06-21T21:52:44.941936Z",
     "shell.execute_reply.started": "2024-06-21T21:52:44.916457Z"
    },
    "trusted": true
   },
   "outputs": [
    {
     "data": {
      "text/html": [
       "<div>\n",
       "<style scoped>\n",
       "    .dataframe tbody tr th:only-of-type {\n",
       "        vertical-align: middle;\n",
       "    }\n",
       "\n",
       "    .dataframe tbody tr th {\n",
       "        vertical-align: top;\n",
       "    }\n",
       "\n",
       "    .dataframe thead th {\n",
       "        text-align: right;\n",
       "    }\n",
       "</style>\n",
       "<table border=\"1\" class=\"dataframe\">\n",
       "  <thead>\n",
       "    <tr style=\"text-align: right;\">\n",
       "      <th></th>\n",
       "      <th>Age</th>\n",
       "      <th>Gender</th>\n",
       "      <th>Income</th>\n",
       "      <th>CampaignChannel</th>\n",
       "      <th>CampaignType</th>\n",
       "      <th>AdSpend</th>\n",
       "      <th>ClickThroughRate</th>\n",
       "      <th>ConversionRate</th>\n",
       "      <th>WebsiteVisits</th>\n",
       "      <th>PagesPerVisit</th>\n",
       "      <th>TimeOnSite</th>\n",
       "      <th>SocialShares</th>\n",
       "      <th>EmailOpens</th>\n",
       "      <th>EmailClicks</th>\n",
       "      <th>PreviousPurchases</th>\n",
       "      <th>LoyaltyPoints</th>\n",
       "      <th>Conversion</th>\n",
       "    </tr>\n",
       "  </thead>\n",
       "  <tbody>\n",
       "    <tr>\n",
       "      <th>0</th>\n",
       "      <td>56</td>\n",
       "      <td>Female</td>\n",
       "      <td>136912</td>\n",
       "      <td>Social Media</td>\n",
       "      <td>Awareness</td>\n",
       "      <td>6497.870068</td>\n",
       "      <td>0.043919</td>\n",
       "      <td>0.088031</td>\n",
       "      <td>0</td>\n",
       "      <td>2.399017</td>\n",
       "      <td>7.396803</td>\n",
       "      <td>19</td>\n",
       "      <td>6</td>\n",
       "      <td>9</td>\n",
       "      <td>4</td>\n",
       "      <td>688</td>\n",
       "      <td>1</td>\n",
       "    </tr>\n",
       "    <tr>\n",
       "      <th>1</th>\n",
       "      <td>69</td>\n",
       "      <td>Male</td>\n",
       "      <td>41760</td>\n",
       "      <td>Email</td>\n",
       "      <td>Retention</td>\n",
       "      <td>3898.668606</td>\n",
       "      <td>0.155725</td>\n",
       "      <td>0.182725</td>\n",
       "      <td>42</td>\n",
       "      <td>2.917138</td>\n",
       "      <td>5.352549</td>\n",
       "      <td>5</td>\n",
       "      <td>2</td>\n",
       "      <td>7</td>\n",
       "      <td>2</td>\n",
       "      <td>3459</td>\n",
       "      <td>1</td>\n",
       "    </tr>\n",
       "    <tr>\n",
       "      <th>2</th>\n",
       "      <td>46</td>\n",
       "      <td>Female</td>\n",
       "      <td>88456</td>\n",
       "      <td>PPC</td>\n",
       "      <td>Awareness</td>\n",
       "      <td>1546.429596</td>\n",
       "      <td>0.277490</td>\n",
       "      <td>0.076423</td>\n",
       "      <td>2</td>\n",
       "      <td>8.223619</td>\n",
       "      <td>13.794901</td>\n",
       "      <td>0</td>\n",
       "      <td>11</td>\n",
       "      <td>2</td>\n",
       "      <td>8</td>\n",
       "      <td>2337</td>\n",
       "      <td>1</td>\n",
       "    </tr>\n",
       "    <tr>\n",
       "      <th>3</th>\n",
       "      <td>32</td>\n",
       "      <td>Female</td>\n",
       "      <td>44085</td>\n",
       "      <td>PPC</td>\n",
       "      <td>Conversion</td>\n",
       "      <td>539.525936</td>\n",
       "      <td>0.137611</td>\n",
       "      <td>0.088004</td>\n",
       "      <td>47</td>\n",
       "      <td>4.540939</td>\n",
       "      <td>14.688363</td>\n",
       "      <td>89</td>\n",
       "      <td>2</td>\n",
       "      <td>2</td>\n",
       "      <td>0</td>\n",
       "      <td>2463</td>\n",
       "      <td>1</td>\n",
       "    </tr>\n",
       "    <tr>\n",
       "      <th>4</th>\n",
       "      <td>60</td>\n",
       "      <td>Female</td>\n",
       "      <td>83964</td>\n",
       "      <td>PPC</td>\n",
       "      <td>Conversion</td>\n",
       "      <td>1678.043573</td>\n",
       "      <td>0.252851</td>\n",
       "      <td>0.109940</td>\n",
       "      <td>0</td>\n",
       "      <td>2.046847</td>\n",
       "      <td>13.993370</td>\n",
       "      <td>6</td>\n",
       "      <td>6</td>\n",
       "      <td>6</td>\n",
       "      <td>8</td>\n",
       "      <td>4345</td>\n",
       "      <td>1</td>\n",
       "    </tr>\n",
       "  </tbody>\n",
       "</table>\n",
       "</div>"
      ],
      "text/plain": [
       "   Age  Gender  Income CampaignChannel CampaignType      AdSpend   \n",
       "0   56  Female  136912    Social Media    Awareness  6497.870068  \\\n",
       "1   69    Male   41760           Email    Retention  3898.668606   \n",
       "2   46  Female   88456             PPC    Awareness  1546.429596   \n",
       "3   32  Female   44085             PPC   Conversion   539.525936   \n",
       "4   60  Female   83964             PPC   Conversion  1678.043573   \n",
       "\n",
       "   ClickThroughRate  ConversionRate  WebsiteVisits  PagesPerVisit  TimeOnSite   \n",
       "0          0.043919        0.088031              0       2.399017    7.396803  \\\n",
       "1          0.155725        0.182725             42       2.917138    5.352549   \n",
       "2          0.277490        0.076423              2       8.223619   13.794901   \n",
       "3          0.137611        0.088004             47       4.540939   14.688363   \n",
       "4          0.252851        0.109940              0       2.046847   13.993370   \n",
       "\n",
       "   SocialShares  EmailOpens  EmailClicks  PreviousPurchases  LoyaltyPoints   \n",
       "0            19           6            9                  4            688  \\\n",
       "1             5           2            7                  2           3459   \n",
       "2             0          11            2                  8           2337   \n",
       "3            89           2            2                  0           2463   \n",
       "4             6           6            6                  8           4345   \n",
       "\n",
       "   Conversion  \n",
       "0           1  \n",
       "1           1  \n",
       "2           1  \n",
       "3           1  \n",
       "4           1  "
      ]
     },
     "execution_count": 20,
     "metadata": {},
     "output_type": "execute_result"
    }
   ],
   "source": [
    "data = data.drop(columns = [\"AdvertisingPlatform\", \"AdvertisingTool\", \"CustomerID\"])\n",
    "data.head()"
   ]
  },
  {
   "cell_type": "code",
   "execution_count": null,
   "metadata": {
    "execution": {
     "iopub.execute_input": "2024-06-21T21:52:41.988549Z",
     "iopub.status.busy": "2024-06-21T21:52:41.986777Z",
     "iopub.status.idle": "2024-06-21T21:52:42.009559Z",
     "shell.execute_reply": "2024-06-21T21:52:42.008139Z",
     "shell.execute_reply.started": "2024-06-21T21:52:41.988497Z"
    },
    "trusted": true
   },
   "outputs": [
    {
     "name": "stdout",
     "output_type": "stream",
     "text": [
      "Total duplicate rows: 0\n"
     ]
    }
   ],
   "source": [
    "# Checking duplicate rows\n",
    "print(f\"Total duplicate rows: {data.duplicated().sum()}\")"
   ]
  },
  {
   "cell_type": "markdown",
   "metadata": {},
   "source": [
    "no duplicates and NA values in the data"
   ]
  },
  {
   "cell_type": "code",
   "execution_count": null,
   "metadata": {},
   "outputs": [
    {
     "name": "stdout",
     "output_type": "stream",
     "text": [
      "Class distribution in data:\n",
      "Conversion\n",
      "1    7012\n",
      "0     988\n",
      "Name: count, dtype: int64\n"
     ]
    }
   ],
   "source": [
    "print(\"Class distribution in data:\")\n",
    "class_dist = data['Conversion'].value_counts()\n",
    "print(class_dist)"
   ]
  },
  {
   "cell_type": "code",
   "execution_count": null,
   "metadata": {
    "execution": {
     "iopub.execute_input": "2024-06-21T21:53:04.634776Z",
     "iopub.status.busy": "2024-06-21T21:53:04.634142Z",
     "iopub.status.idle": "2024-06-21T21:53:04.841692Z",
     "shell.execute_reply": "2024-06-21T21:53:04.839799Z",
     "shell.execute_reply.started": "2024-06-21T21:53:04.634727Z"
    },
    "trusted": true
   },
   "outputs": [
    {
     "data": {
      "image/png": "[encoded data removed]",
      "text/plain": [
       "<Figure size 500x320 with 1 Axes>"
      ]
     },
     "metadata": {},
     "output_type": "display_data"
    }
   ],
   "source": [
    "plt.figure(figsize = (5, 3.2))\n",
    "plt.pie(x = Counter(data[\"Conversion\"]).values(), \n",
    "        labels = Counter(data[\"Conversion\"]).keys(), \n",
    "        autopct = \"%.1f%%\", \n",
    "        shadow = True)\n",
    "plt.title(\"Conversion\", fontsize = 12, fontweight = \"bold\")\n",
    "plt.show()"
   ]
  },
  {
   "cell_type": "markdown",
   "metadata": {},
   "source": [
    "highly imbalanced data, oversampling methods should be applied"
   ]
  },
  {
   "cell_type": "code",
   "execution_count": null,
   "metadata": {
    "execution": {
     "iopub.execute_input": "2024-06-21T21:53:06.214578Z",
     "iopub.status.busy": "2024-06-21T21:53:06.214101Z",
     "iopub.status.idle": "2024-06-21T21:53:07.261709Z",
     "shell.execute_reply": "2024-06-21T21:53:07.260340Z",
     "shell.execute_reply.started": "2024-06-21T21:53:06.214546Z"
    },
    "trusted": true
   },
   "outputs": [
    {
     "data": {
      "image/png": "[encoded data removed]",
      "text/plain": [
       "<Figure size 1000x550 with 2 Axes>"
      ]
     },
     "metadata": {},
     "output_type": "display_data"
    }
   ],
   "source": [
    "corr_matrix_pearson = data[discrete_variables + continuous_variables].corr(method = 'pearson')\n",
    "mask = np.triu(np.ones_like(corr_matrix_pearson, dtype = bool))\n",
    "\n",
    "fig,ax = plt.subplots(figsize = (10, 5.5))\n",
    "sns.heatmap(corr_matrix_pearson, \n",
    "            annot = True, \n",
    "            annot_kws = {'fontsize':5.5, 'fontweight':'bold'},\n",
    "            fmt = '.3f',\n",
    "            linewidths = 0.6,\n",
    "            cmap = 'RdBu_r', \n",
    "            mask = mask, \n",
    "            square = True,\n",
    "            ax = ax)\n",
    "ax.set_xticklabels(ax.get_xticklabels(), rotation = 45, horizontalalignment = 'right')\n",
    "ax.tick_params(labelsize = 7, labelcolor = 'black')\n",
    "ax.set_title(\"Correlation Matrix-Pearson\", fontsize = 10, fontweight = 'bold', color = 'black')\n",
    "fig.show()"
   ]
  },
  {
   "cell_type": "markdown",
   "metadata": {},
   "source": [
    "no observable correlated features"
   ]
  },
  {
   "cell_type": "markdown",
   "metadata": {},
   "source": [
    "### Pre-processing"
   ]
  },
  {
   "cell_type": "code",
   "execution_count": null,
   "metadata": {
    "execution": {
     "iopub.execute_input": "2024-06-21T21:46:00.703828Z",
     "iopub.status.busy": "2024-06-21T21:46:00.703290Z",
     "iopub.status.idle": "2024-06-21T21:46:00.724735Z",
     "shell.execute_reply": "2024-06-21T21:46:00.723242Z",
     "shell.execute_reply.started": "2024-06-21T21:46:00.703789Z"
    },
    "trusted": true
   },
   "outputs": [
    {
     "name": "stdout",
     "output_type": "stream",
     "text": [
      "X_train: 6400 samples\n",
      "X_test: 1600 samples\n"
     ]
    }
   ],
   "source": [
    "X = data.drop('Conversion', axis = 1)\n",
    "y = data['Conversion']\n",
    "\n",
    "SEED = 42\n",
    "TEST_SIZE = 0.2 # 80-20 split\n",
    "\n",
    "X_train, X_test, y_train, y_test = train_test_split(X, \n",
    "                                                    y, \n",
    "                                                    test_size = TEST_SIZE, \n",
    "                                                    random_state = SEED, \n",
    "                                                    stratify = y)\n",
    "\n",
    "print(f\"X_train: {len(y_train)} samples\")\n",
    "print(f\"X_test: {len(y_test)} samples\")"
   ]
  },
  {
   "cell_type": "code",
   "execution_count": null,
   "metadata": {
    "execution": {
     "iopub.execute_input": "2024-06-21T21:46:01.719632Z",
     "iopub.status.busy": "2024-06-21T21:46:01.718706Z",
     "iopub.status.idle": "2024-06-21T21:46:01.727648Z",
     "shell.execute_reply": "2024-06-21T21:46:01.726183Z",
     "shell.execute_reply.started": "2024-06-21T21:46:01.719592Z"
    },
    "trusted": true
   },
   "outputs": [
    {
     "name": "stdout",
     "output_type": "stream",
     "text": [
      "Counter({1: 5610, 0: 790})\n",
      "Counter({1: 1402, 0: 198})\n"
     ]
    }
   ],
   "source": [
    "print(Counter(y_train))\n",
    "print(Counter(y_test))"
   ]
  },
  {
   "cell_type": "code",
   "execution_count": null,
   "metadata": {},
   "outputs": [
    {
     "data": {
      "text/html": [
       "<div>\n",
       "<style scoped>\n",
       "    .dataframe tbody tr th:only-of-type {\n",
       "        vertical-align: middle;\n",
       "    }\n",
       "\n",
       "    .dataframe tbody tr th {\n",
       "        vertical-align: top;\n",
       "    }\n",
       "\n",
       "    .dataframe thead th {\n",
       "        text-align: right;\n",
       "    }\n",
       "</style>\n",
       "<table border=\"1\" class=\"dataframe\">\n",
       "  <thead>\n",
       "    <tr style=\"text-align: right;\">\n",
       "      <th></th>\n",
       "      <th>Age</th>\n",
       "      <th>Gender</th>\n",
       "      <th>Income</th>\n",
       "      <th>CampaignChannel</th>\n",
       "      <th>CampaignType</th>\n",
       "      <th>AdSpend</th>\n",
       "      <th>ClickThroughRate</th>\n",
       "      <th>ConversionRate</th>\n",
       "      <th>WebsiteVisits</th>\n",
       "      <th>PagesPerVisit</th>\n",
       "      <th>TimeOnSite</th>\n",
       "      <th>SocialShares</th>\n",
       "      <th>EmailOpens</th>\n",
       "      <th>EmailClicks</th>\n",
       "      <th>PreviousPurchases</th>\n",
       "      <th>LoyaltyPoints</th>\n",
       "    </tr>\n",
       "  </thead>\n",
       "  <tbody>\n",
       "    <tr>\n",
       "      <th>2787</th>\n",
       "      <td>26</td>\n",
       "      <td>Female</td>\n",
       "      <td>131794</td>\n",
       "      <td>Social Media</td>\n",
       "      <td>Retention</td>\n",
       "      <td>7562.712158</td>\n",
       "      <td>0.287815</td>\n",
       "      <td>0.127689</td>\n",
       "      <td>35</td>\n",
       "      <td>4.265172</td>\n",
       "      <td>12.332071</td>\n",
       "      <td>42</td>\n",
       "      <td>17</td>\n",
       "      <td>0</td>\n",
       "      <td>5</td>\n",
       "      <td>1261</td>\n",
       "    </tr>\n",
       "    <tr>\n",
       "      <th>7093</th>\n",
       "      <td>53</td>\n",
       "      <td>Male</td>\n",
       "      <td>64280</td>\n",
       "      <td>Social Media</td>\n",
       "      <td>Retention</td>\n",
       "      <td>5623.440404</td>\n",
       "      <td>0.023705</td>\n",
       "      <td>0.074578</td>\n",
       "      <td>40</td>\n",
       "      <td>8.998052</td>\n",
       "      <td>12.793125</td>\n",
       "      <td>69</td>\n",
       "      <td>6</td>\n",
       "      <td>0</td>\n",
       "      <td>4</td>\n",
       "      <td>3655</td>\n",
       "    </tr>\n",
       "    <tr>\n",
       "      <th>6379</th>\n",
       "      <td>56</td>\n",
       "      <td>Female</td>\n",
       "      <td>119826</td>\n",
       "      <td>Email</td>\n",
       "      <td>Retention</td>\n",
       "      <td>313.985706</td>\n",
       "      <td>0.021176</td>\n",
       "      <td>0.156016</td>\n",
       "      <td>45</td>\n",
       "      <td>7.061957</td>\n",
       "      <td>5.519560</td>\n",
       "      <td>20</td>\n",
       "      <td>16</td>\n",
       "      <td>4</td>\n",
       "      <td>6</td>\n",
       "      <td>4932</td>\n",
       "    </tr>\n",
       "    <tr>\n",
       "      <th>3865</th>\n",
       "      <td>54</td>\n",
       "      <td>Female</td>\n",
       "      <td>91019</td>\n",
       "      <td>Social Media</td>\n",
       "      <td>Retention</td>\n",
       "      <td>6876.065933</td>\n",
       "      <td>0.219177</td>\n",
       "      <td>0.064783</td>\n",
       "      <td>29</td>\n",
       "      <td>7.690586</td>\n",
       "      <td>14.105224</td>\n",
       "      <td>91</td>\n",
       "      <td>6</td>\n",
       "      <td>8</td>\n",
       "      <td>8</td>\n",
       "      <td>1960</td>\n",
       "    </tr>\n",
       "    <tr>\n",
       "      <th>1167</th>\n",
       "      <td>25</td>\n",
       "      <td>Female</td>\n",
       "      <td>63167</td>\n",
       "      <td>Email</td>\n",
       "      <td>Consideration</td>\n",
       "      <td>2069.226733</td>\n",
       "      <td>0.048545</td>\n",
       "      <td>0.177755</td>\n",
       "      <td>8</td>\n",
       "      <td>8.353003</td>\n",
       "      <td>1.628300</td>\n",
       "      <td>73</td>\n",
       "      <td>8</td>\n",
       "      <td>9</td>\n",
       "      <td>6</td>\n",
       "      <td>2189</td>\n",
       "    </tr>\n",
       "  </tbody>\n",
       "</table>\n",
       "</div>"
      ],
      "text/plain": [
       "      Age  Gender  Income CampaignChannel   CampaignType      AdSpend   \n",
       "2787   26  Female  131794    Social Media      Retention  7562.712158  \\\n",
       "7093   53    Male   64280    Social Media      Retention  5623.440404   \n",
       "6379   56  Female  119826           Email      Retention   313.985706   \n",
       "3865   54  Female   91019    Social Media      Retention  6876.065933   \n",
       "1167   25  Female   63167           Email  Consideration  2069.226733   \n",
       "\n",
       "      ClickThroughRate  ConversionRate  WebsiteVisits  PagesPerVisit   \n",
       "2787          0.287815        0.127689             35       4.265172  \\\n",
       "7093          0.023705        0.074578             40       8.998052   \n",
       "6379          0.021176        0.156016             45       7.061957   \n",
       "3865          0.219177        0.064783             29       7.690586   \n",
       "1167          0.048545        0.177755              8       8.353003   \n",
       "\n",
       "      TimeOnSite  SocialShares  EmailOpens  EmailClicks  PreviousPurchases   \n",
       "2787   12.332071            42          17            0                  5  \\\n",
       "7093   12.793125            69           6            0                  4   \n",
       "6379    5.519560            20          16            4                  6   \n",
       "3865   14.105224            91           6            8                  8   \n",
       "1167    1.628300            73           8            9                  6   \n",
       "\n",
       "      LoyaltyPoints  \n",
       "2787           1261  \n",
       "7093           3655  \n",
       "6379           4932  \n",
       "3865           1960  \n",
       "1167           2189  "
      ]
     },
     "execution_count": 36,
     "metadata": {},
     "output_type": "execute_result"
    }
   ],
   "source": [
    "X_train.head()"
   ]
  },
  {
   "cell_type": "code",
   "execution_count": null,
   "metadata": {
    "execution": {
     "iopub.execute_input": "2024-06-21T21:46:02.801437Z",
     "iopub.status.busy": "2024-06-21T21:46:02.801027Z",
     "iopub.status.idle": "2024-06-21T21:46:02.812182Z",
     "shell.execute_reply": "2024-06-21T21:46:02.810642Z",
     "shell.execute_reply.started": "2024-06-21T21:46:02.801407Z"
    },
    "trusted": true
   },
   "outputs": [],
   "source": [
    "categorical_features = X_train.select_dtypes(include = ['object', 'category']).columns.to_list()\n",
    "numerical_features = continuous_variables + discrete_variables"
   ]
  },
  {
   "cell_type": "code",
   "execution_count": null,
   "metadata": {
    "execution": {
     "iopub.execute_input": "2024-06-21T21:46:03.881932Z",
     "iopub.status.busy": "2024-06-21T21:46:03.881442Z",
     "iopub.status.idle": "2024-06-21T21:46:03.935560Z",
     "shell.execute_reply": "2024-06-21T21:46:03.934428Z",
     "shell.execute_reply.started": "2024-06-21T21:46:03.881899Z"
    },
    "trusted": true
   },
   "outputs": [
    {
     "data": {
      "text/html": [
       "<div>\n",
       "<style scoped>\n",
       "    .dataframe tbody tr th:only-of-type {\n",
       "        vertical-align: middle;\n",
       "    }\n",
       "\n",
       "    .dataframe tbody tr th {\n",
       "        vertical-align: top;\n",
       "    }\n",
       "\n",
       "    .dataframe thead th {\n",
       "        text-align: right;\n",
       "    }\n",
       "</style>\n",
       "<table border=\"1\" class=\"dataframe\">\n",
       "  <thead>\n",
       "    <tr style=\"text-align: right;\">\n",
       "      <th></th>\n",
       "      <th>Gender</th>\n",
       "      <th>CampaignChannel</th>\n",
       "      <th>CampaignType</th>\n",
       "      <th>Age</th>\n",
       "      <th>Income</th>\n",
       "      <th>AdSpend</th>\n",
       "      <th>ClickThroughRate</th>\n",
       "      <th>ConversionRate</th>\n",
       "      <th>WebsiteVisits</th>\n",
       "      <th>PagesPerVisit</th>\n",
       "      <th>TimeOnSite</th>\n",
       "      <th>SocialShares</th>\n",
       "      <th>EmailOpens</th>\n",
       "      <th>EmailClicks</th>\n",
       "      <th>PreviousPurchases</th>\n",
       "      <th>LoyaltyPoints</th>\n",
       "    </tr>\n",
       "  </thead>\n",
       "  <tbody>\n",
       "    <tr>\n",
       "      <th>2787</th>\n",
       "      <td>0.0</td>\n",
       "      <td>4.0</td>\n",
       "      <td>3.0</td>\n",
       "      <td>26</td>\n",
       "      <td>131794</td>\n",
       "      <td>7562.712158</td>\n",
       "      <td>0.287815</td>\n",
       "      <td>0.127689</td>\n",
       "      <td>35</td>\n",
       "      <td>4.265172</td>\n",
       "      <td>12.332071</td>\n",
       "      <td>42</td>\n",
       "      <td>17</td>\n",
       "      <td>0</td>\n",
       "      <td>5</td>\n",
       "      <td>1261</td>\n",
       "    </tr>\n",
       "    <tr>\n",
       "      <th>7093</th>\n",
       "      <td>1.0</td>\n",
       "      <td>4.0</td>\n",
       "      <td>3.0</td>\n",
       "      <td>53</td>\n",
       "      <td>64280</td>\n",
       "      <td>5623.440404</td>\n",
       "      <td>0.023705</td>\n",
       "      <td>0.074578</td>\n",
       "      <td>40</td>\n",
       "      <td>8.998052</td>\n",
       "      <td>12.793125</td>\n",
       "      <td>69</td>\n",
       "      <td>6</td>\n",
       "      <td>0</td>\n",
       "      <td>4</td>\n",
       "      <td>3655</td>\n",
       "    </tr>\n",
       "    <tr>\n",
       "      <th>6379</th>\n",
       "      <td>0.0</td>\n",
       "      <td>0.0</td>\n",
       "      <td>3.0</td>\n",
       "      <td>56</td>\n",
       "      <td>119826</td>\n",
       "      <td>313.985706</td>\n",
       "      <td>0.021176</td>\n",
       "      <td>0.156016</td>\n",
       "      <td>45</td>\n",
       "      <td>7.061957</td>\n",
       "      <td>5.519560</td>\n",
       "      <td>20</td>\n",
       "      <td>16</td>\n",
       "      <td>4</td>\n",
       "      <td>6</td>\n",
       "      <td>4932</td>\n",
       "    </tr>\n",
       "    <tr>\n",
       "      <th>3865</th>\n",
       "      <td>0.0</td>\n",
       "      <td>4.0</td>\n",
       "      <td>3.0</td>\n",
       "      <td>54</td>\n",
       "      <td>91019</td>\n",
       "      <td>6876.065933</td>\n",
       "      <td>0.219177</td>\n",
       "      <td>0.064783</td>\n",
       "      <td>29</td>\n",
       "      <td>7.690586</td>\n",
       "      <td>14.105224</td>\n",
       "      <td>91</td>\n",
       "      <td>6</td>\n",
       "      <td>8</td>\n",
       "      <td>8</td>\n",
       "      <td>1960</td>\n",
       "    </tr>\n",
       "    <tr>\n",
       "      <th>1167</th>\n",
       "      <td>0.0</td>\n",
       "      <td>0.0</td>\n",
       "      <td>1.0</td>\n",
       "      <td>25</td>\n",
       "      <td>63167</td>\n",
       "      <td>2069.226733</td>\n",
       "      <td>0.048545</td>\n",
       "      <td>0.177755</td>\n",
       "      <td>8</td>\n",
       "      <td>8.353003</td>\n",
       "      <td>1.628300</td>\n",
       "      <td>73</td>\n",
       "      <td>8</td>\n",
       "      <td>9</td>\n",
       "      <td>6</td>\n",
       "      <td>2189</td>\n",
       "    </tr>\n",
       "  </tbody>\n",
       "</table>\n",
       "</div>"
      ],
      "text/plain": [
       "      Gender  CampaignChannel  CampaignType  Age  Income      AdSpend   \n",
       "2787     0.0              4.0           3.0   26  131794  7562.712158  \\\n",
       "7093     1.0              4.0           3.0   53   64280  5623.440404   \n",
       "6379     0.0              0.0           3.0   56  119826   313.985706   \n",
       "3865     0.0              4.0           3.0   54   91019  6876.065933   \n",
       "1167     0.0              0.0           1.0   25   63167  2069.226733   \n",
       "\n",
       "      ClickThroughRate  ConversionRate  WebsiteVisits  PagesPerVisit   \n",
       "2787          0.287815        0.127689             35       4.265172  \\\n",
       "7093          0.023705        0.074578             40       8.998052   \n",
       "6379          0.021176        0.156016             45       7.061957   \n",
       "3865          0.219177        0.064783             29       7.690586   \n",
       "1167          0.048545        0.177755              8       8.353003   \n",
       "\n",
       "      TimeOnSite  SocialShares  EmailOpens  EmailClicks  PreviousPurchases   \n",
       "2787   12.332071            42          17            0                  5  \\\n",
       "7093   12.793125            69           6            0                  4   \n",
       "6379    5.519560            20          16            4                  6   \n",
       "3865   14.105224            91           6            8                  8   \n",
       "1167    1.628300            73           8            9                  6   \n",
       "\n",
       "      LoyaltyPoints  \n",
       "2787           1261  \n",
       "7093           3655  \n",
       "6379           4932  \n",
       "3865           1960  \n",
       "1167           2189  "
      ]
     },
     "execution_count": 38,
     "metadata": {},
     "output_type": "execute_result"
    }
   ],
   "source": [
    "le = OrdinalEncoder(handle_unknown='use_encoded_value', unknown_value=-1)\n",
    "transformers = [('le', le, categorical_features)]\n",
    "preprocessor = ColumnTransformer(transformers, \n",
    "                                remainder='passthrough', \n",
    "                                verbose_feature_names_out=False)\n",
    "preprocessor.set_output(transform='pandas')\n",
    "\n",
    "X_train_prep = preprocessor.fit_transform(X_train)\n",
    "X_test_prep = preprocessor.transform(X_test)\n",
    "X_train_prep.head()"
   ]
  },
  {
   "cell_type": "code",
   "execution_count": null,
   "metadata": {},
   "outputs": [
    {
     "name": "stdout",
     "output_type": "stream",
     "text": [
      "\n",
      "Feature: Gender\n",
      "  Female → 0\n",
      "  Male → 1\n",
      "\n",
      "Feature: CampaignChannel\n",
      "  Email → 0\n",
      "  PPC → 1\n",
      "  Referral → 2\n",
      "  SEO → 3\n",
      "  Social Media → 4\n",
      "\n",
      "Feature: CampaignType\n",
      "  Awareness → 0\n",
      "  Consideration → 1\n",
      "  Conversion → 2\n",
      "  Retention → 3\n"
     ]
    }
   ],
   "source": [
    "# Print the label mappings for each categorical feature\n",
    "encoder = preprocessor.named_transformers_['le']\n",
    "categories = encoder.categories_\n",
    "\n",
    "for i, feature_name in enumerate(categorical_features):\n",
    "    print(f\"\\nFeature: {feature_name}\")\n",
    "    for j, category in enumerate(categories[i]):\n",
    "        print(f\"  {category} → {j}\")"
   ]
  }
 ],
 "metadata": {
  "kaggle": {
   "accelerator": "none",
   "dataSources": [
    {
     "datasetId": 5249362,
     "sourceId": 8742946,
     "sourceType": "datasetVersion"
    }
   ],
   "dockerImageVersionId": 30732,
   "isGpuEnabled": false,
   "isInternetEnabled": true,
   "language": "python",
   "sourceType": "notebook"
  },
  "kernelspec": {
   "display_name": "base",
   "language": "python",
   "name": "python3"
  },
  "language_info": {
   "codemirror_mode": {
    "name": "ipython",
    "version": 3
   },
   "file_extension": ".py",
   "mimetype": "text/x-python",
   "name": "python",
   "nbconvert_exporter": "python",
   "pygments_lexer": "ipython3",
   "version": "3.11.4"
  }
 },
 "nbformat": 4,
 "nbformat_minor": 4
}
