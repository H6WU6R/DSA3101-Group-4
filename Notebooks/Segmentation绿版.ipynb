{
 "cells": [
  {
   "cell_type": "markdown",
   "metadata": {},
   "source": [
    "## 0. Packages and Datasets Import"
   ]
  },
  {
   "cell_type": "code",
   "execution_count": 2,
   "metadata": {},
   "outputs": [],
   "source": [
    "import pandas as pd\n",
    "import numpy as np\n",
    "import matplotlib.pyplot as plt\n",
    "import seaborn as sns\n",
    "import os\n",
    "from scipy import stats\n",
    "from sklearn.preprocessing import StandardScaler\n",
    "from sklearn.cluster import KMeans\n",
    "from sklearn.metrics import silhouette_score\n",
    "from sklearn.preprocessing import MinMaxScaler\n",
    "from sklearn.decomposition import PCA\n",
    "from sklearn.cluster import AgglomerativeClustering\n",
    "from sklearn.preprocessing import StandardScaler\n",
    "from scipy.stats import skew, boxcox, yeojohnson\n",
    "from datetime import datetime\n",
    "import matplotlib.pyplot as plt\n",
    "import seaborn as sns\n",
    "from scipy.cluster.hierarchy import dendrogram, linkage\n",
    "from scipy.stats import zscore \n"
   ]
  },
  {
   "cell_type": "code",
   "execution_count": 3,
   "metadata": {},
   "outputs": [],
   "source": [
    "df = pd.read_csv('../Data/digital_marketing_campaign_dataset.csv')"
   ]
  },
  {
   "cell_type": "code",
   "execution_count": 4,
   "metadata": {},
   "outputs": [],
   "source": [
    "df_original = pd.read_csv('../Data/digital_marketing_campaign_dataset.csv')"
   ]
  },
  {
   "cell_type": "code",
   "execution_count": 5,
   "metadata": {},
   "outputs": [],
   "source": [
    "df_drop = df.drop(columns = ['AdvertisingPlatform', 'AdvertisingTool','CustomerID'])"
   ]
  },
  {
   "cell_type": "code",
   "execution_count": 6,
   "metadata": {},
   "outputs": [],
   "source": [
    "df = df_drop"
   ]
  },
  {
   "cell_type": "code",
   "execution_count": 7,
   "metadata": {},
   "outputs": [],
   "source": [
    "columns_to_encode = ['Gender', 'CampaignChannel', 'CampaignType']\n",
    "df_encoded = pd.get_dummies(df, columns=columns_to_encode, drop_first=False)\n",
    "df = df_encoded"
   ]
  },
  {
   "cell_type": "code",
   "execution_count": 8,
   "metadata": {},
   "outputs": [],
   "source": [
    "scalar = StandardScaler()\n",
    "df_scaled = scalar.fit_transform(df)"
   ]
  },
  {
   "cell_type": "code",
   "execution_count": 9,
   "metadata": {},
   "outputs": [],
   "source": [
    "pca_range = range(2, min(df_scaled.shape[1], 10) + 1)  # from 2 to either 10 or number of features\n",
    "\n",
    "# Define k-range for K-Means\n",
    "k_range = range(2, 11)\n",
    "\n",
    "# Initialize variables to store the best configuration\n",
    "overall_best_sil = -np.inf\n",
    "best_pca_n = None\n",
    "best_k_for_best = None\n",
    "best_scores_for_best = None"
   ]
  },
  {
   "cell_type": "code",
   "execution_count": 10,
   "metadata": {},
   "outputs": [],
   "source": [
    "# Loop over different numbers of PCA components\n",
    "for n_components in pca_range:\n",
    "    # Apply PCA with n_components\n",
    "    pca = PCA(n_components=n_components, random_state=42)\n",
    "    X_pca_temp = pca.fit_transform(df_scaled)\n",
    "    \n",
    "    # Test K-Means for this PCA-transformed data\n",
    "    scores_temp = []\n",
    "    for k in k_range:\n",
    "        kmeans_temp = KMeans(n_clusters=k, random_state=42)\n",
    "        labels_temp = kmeans_temp.fit_predict(X_pca_temp)\n",
    "        sil = silhouette_score(X_pca_temp, labels_temp)\n",
    "        scores_temp.append((k, sil))\n",
    "    \n",
    "    # Find the best silhouette score for this number of PCA components\n",
    "    best_for_this = max(scores_temp, key=lambda x: x[1])\n",
    "    \n",
    "    # Check if this configuration is better than the overall best\n",
    "    if best_for_this[1] > overall_best_sil:\n",
    "        overall_best_sil = best_for_this[1]\n",
    "        best_pca_n = n_components\n",
    "        best_k_for_best = best_for_this[0]\n",
    "        best_scores_for_best = scores_temp"
   ]
  },
  {
   "cell_type": "code",
   "execution_count": 11,
   "metadata": {},
   "outputs": [
    {
     "name": "stdout",
     "output_type": "stream",
     "text": [
      "Best number of PCA components: 2\n",
      "Best k (clusters) for that PCA configuration: 6\n",
      "Overall best silhouette score: 0.6917106071593926\n"
     ]
    }
   ],
   "source": [
    "# Print the best configuration found\n",
    "print(\"Best number of PCA components:\", best_pca_n)\n",
    "print(\"Best k (clusters) for that PCA configuration:\", best_k_for_best)\n",
    "print(\"Overall best silhouette score:\", overall_best_sil)"
   ]
  },
  {
   "cell_type": "code",
   "execution_count": 12,
   "metadata": {},
   "outputs": [],
   "source": [
    "\n",
    "pca_best = PCA(n_components=best_pca_n, random_state=42)\n",
    "df_pca_best = pca_best.fit_transform(df_scaled)"
   ]
  },
  {
   "cell_type": "code",
   "execution_count": 13,
   "metadata": {},
   "outputs": [
    {
     "name": "stdout",
     "output_type": "stream",
     "text": [
      "Explained variance by 2 PCA components: [0.08034666 0.05788138]\n"
     ]
    }
   ],
   "source": [
    "pca = PCA(n_components=2, random_state=42)\n",
    "df_pca = pca.fit_transform(df_scaled)\n",
    "\n",
    "print(\"Explained variance by 2 PCA components:\", pca.explained_variance_ratio_)"
   ]
  },
  {
   "cell_type": "code",
   "execution_count": 14,
   "metadata": {},
   "outputs": [],
   "source": [
    "# Test K-Means silhouette scores on the best PCA configuration\n",
    "scores_best = []\n",
    "for k in k_range:\n",
    "    kmeans_best = KMeans(n_clusters=k, random_state=42)\n",
    "    labels_best = kmeans_best.fit_predict(df_pca_best)\n",
    "    sil_best = silhouette_score(df_pca_best, labels_best)\n",
    "    scores_best.append((k, sil_best))"
   ]
  },
  {
   "cell_type": "code",
   "execution_count": 17,
   "metadata": {},
   "outputs": [
    {
     "name": "stdout",
     "output_type": "stream",
     "text": [
      "Clusters: 2, Silhouette Score: 0.6042, Inertia: 11657.0408\n",
      "Clusters: 3, Silhouette Score: 0.5942, Inertia: 7247.3669\n",
      "Clusters: 4, Silhouette Score: 0.6018, Inertia: 4592.8428\n",
      "Clusters: 5, Silhouette Score: 0.6518, Inertia: 2657.7026\n",
      "Clusters: 6, Silhouette Score: 0.6917, Inertia: 1437.0185\n",
      "Clusters: 7, Silhouette Score: 0.6138, Inertia: 1078.5732\n",
      "Clusters: 8, Silhouette Score: 0.5596, Inertia: 846.2990\n",
      "Clusters: 9, Silhouette Score: 0.5353, Inertia: 703.9258\n"
     ]
    }
   ],
   "source": [
    "range_n_clusters = range(2, 10)\n",
    "silhouette_scores = {}\n",
    "inertia_values = {}\n",
    "\n",
    "for n_clusters in range_n_clusters:\n",
    "    kmeans = KMeans(n_clusters=n_clusters, random_state=42, n_init=10)\n",
    "    labels = kmeans.fit_predict(df_pca)\n",
    "    sil_score = silhouette_score(df_pca, labels)\n",
    "    inertia = kmeans.inertia_\n",
    "    \n",
    "    silhouette_scores[n_clusters] = sil_score\n",
    "    inertia_values[n_clusters] = inertia\n",
    "    \n",
    "    print(f\"Clusters: {n_clusters}, Silhouette Score: {sil_score:.4f}, Inertia: {inertia:.4f}\")"
   ]
  },
  {
   "cell_type": "code",
   "execution_count": null,
   "metadata": {},
   "outputs": [],
   "source": [
    "\n",
    "\n",
    "# Set the number of clusters to 6\n",
    "kmeans = KMeans(n_clusters=6, random_state=42)\n",
    "\n",
    "# Fit KMeans and predict cluster labels\n",
    "labels = kmeans.fit_predict(df_pca)  \n",
    "\n",
    "# Add the cluster labels to the original dataframe\n",
    "\n",
    "\n"
   ]
  },
  {
   "cell_type": "code",
   "execution_count": 19,
   "metadata": {},
   "outputs": [
    {
     "name": "stdout",
     "output_type": "stream",
     "text": [
      "Final Cluster Centroids in Original Feature Space:\n",
      "   Cluster    Age    Income  AdSpend  ClickThroughRate  ConversionRate  \\\n",
      "0        0  44.10  82281.07  5610.29              0.17            0.12   \n",
      "1        1  42.66  85308.10  4123.82              0.13            0.09   \n",
      "2        2  43.14  80725.35  4917.23              0.15            0.10   \n",
      "3        3  43.73  86868.75  4906.33              0.15            0.10   \n",
      "4        4  44.70  88427.35  5600.26              0.17            0.11   \n",
      "5        5  42.08  79152.35  4138.82              0.13            0.09   \n",
      "\n",
      "   WebsiteVisits  PagesPerVisit  TimeOnSite  SocialShares  ...  Gender_Male  \\\n",
      "0          26.05           5.99        8.80         48.45  ...         0.99   \n",
      "1          22.98           4.92        6.10         51.93  ...        -0.01   \n",
      "2          24.73           5.51        7.45         50.28  ...         1.00   \n",
      "3          24.48           5.47        7.62         49.88  ...         0.01   \n",
      "4          25.81           5.96        8.97         48.05  ...        -0.00   \n",
      "5          23.24           4.96        5.94         52.32  ...         0.98   \n",
      "\n",
      "   CampaignChannel_Email  CampaignChannel_PPC  CampaignChannel_Referral  \\\n",
      "0                   0.20                 0.25                      0.22   \n",
      "1                   0.18                 0.14                      0.21   \n",
      "2                   0.18                 0.20                      0.20   \n",
      "3                   0.20                 0.20                      0.22   \n",
      "4                   0.22                 0.25                      0.23   \n",
      "5                   0.16                 0.14                      0.19   \n",
      "\n",
      "   CampaignChannel_SEO  CampaignChannel_Social Media  CampaignType_Awareness  \\\n",
      "0                 0.16                          0.17                    0.08   \n",
      "1                 0.24                          0.23                    0.48   \n",
      "2                 0.19                          0.22                    0.25   \n",
      "3                 0.20                          0.18                    0.28   \n",
      "4                 0.17                          0.13                    0.11   \n",
      "5                 0.23                          0.27                    0.45   \n",
      "\n",
      "   CampaignType_Consideration  CampaignType_Conversion  CampaignType_Retention  \n",
      "0                        0.11                     0.69                    0.12  \n",
      "1                        0.46                    -0.37                    0.43  \n",
      "2                        0.29                     0.18                    0.27  \n",
      "3                        0.26                     0.20                    0.26  \n",
      "4                        0.08                     0.70                    0.11  \n",
      "5                        0.50                    -0.38                    0.44  \n",
      "\n",
      "[6 rows x 26 columns]\n"
     ]
    }
   ],
   "source": [
    "\n",
    "# 1. Set number of clusters explicitly\n",
    "n_clusters = 6\n",
    "\n",
    "# 2. Verify your KMeans was fitted with 6 clusters\n",
    "assert kmeans.n_clusters == n_clusters, \"KMeans was not fitted with 6 clusters!\"\n",
    "\n",
    "# 3. Get centroids in PCA space (shape: [6, n_components])\n",
    "pca_centroids = kmeans.cluster_centers_\n",
    "\n",
    "# 4. Inverse transform to standardized feature space\n",
    "centroids_standardized = pca.inverse_transform(pca_centroids)\n",
    "\n",
    "# 5. Verify dimensions before proceeding\n",
    "n_features = len(df.columns)\n",
    "assert centroids_standardized.shape == (n_clusters, n_features), \\\n",
    "    f\"Dimension mismatch! Expected {(n_clusters, n_features)}, got {centroids_standardized.shape}\"\n",
    "\n",
    "# 6. Reverse standardization\n",
    "centroids_original = centroids_standardized * scalar.scale_ + scalar.mean_\n",
    "\n",
    "# 7. Create DataFrame with proper validation\n",
    "centroids_original_df = pd.DataFrame(\n",
    "    centroids_original,\n",
    "    columns=df.columns\n",
    ")\n",
    "\n",
    "# 8. Add cluster labels (0-5 for 6 clusters)\n",
    "centroids_original_df.insert(0, 'Cluster', range(n_clusters))\n",
    "\n",
    "# 9. Display results\n",
    "print(\"Final Cluster Centroids in Original Feature Space:\")\n",
    "print(centroids_original_df.round(2))"
   ]
  },
  {
   "cell_type": "code",
   "execution_count": 22,
   "metadata": {},
   "outputs": [],
   "source": [
    "df['Cluster_Label'] = labels  "
   ]
  }
 ],
 "metadata": {
  "kernelspec": {
   "display_name": "base",
   "language": "python",
   "name": "python3"
  },
  "language_info": {
   "codemirror_mode": {
    "name": "ipython",
    "version": 3
   },
   "file_extension": ".py",
   "mimetype": "text/x-python",
   "name": "python",
   "nbconvert_exporter": "python",
   "pygments_lexer": "ipython3",
   "version": "3.11.5"
  }
 },
 "nbformat": 4,
 "nbformat_minor": 2
}
